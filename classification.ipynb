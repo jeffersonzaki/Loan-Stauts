{
 "cells": [
  {
   "cell_type": "markdown",
   "metadata": {},
   "source": [
    "# Imports"
   ]
  },
  {
   "cell_type": "code",
   "execution_count": 1,
   "metadata": {},
   "outputs": [
    {
     "name": "stderr",
     "output_type": "stream",
     "text": [
      "Using TensorFlow backend.\n",
      "/Library/Frameworks/Python.framework/Versions/3.8/lib/python3.8/site-packages/pandas/core/frame.py:4110: SettingWithCopyWarning: \n",
      "A value is trying to be set on a copy of a slice from a DataFrame\n",
      "\n",
      "See the caveats in the documentation: http://pandas.pydata.org/pandas-docs/stable/user_guide/indexing.html#returning-a-view-versus-a-copy\n",
      "  return super().drop(\n"
     ]
    }
   ],
   "source": [
    "# Python Scripts\n",
    "%run -i \"Scripts/scripts.py\"\n",
    "\n",
    "# Machine learning models\n",
    "from sklearn.ensemble import RandomForestClassifier\n",
    "from sklearn.svm import SVC\n",
    "\n",
    "# Pipeline\n",
    "from sklearn.pipeline import Pipeline\n",
    "\n",
    "# Gridsearch\n",
    "from sklearn.model_selection import GridSearchCV"
   ]
  },
  {
   "cell_type": "markdown",
   "metadata": {},
   "source": [
    "## Random Forest"
   ]
  },
  {
   "cell_type": "code",
   "execution_count": 2,
   "metadata": {},
   "outputs": [],
   "source": [
    "random_forest = RandomForestClassifier(random_state=19, oob_score=True)\n",
    "svm = SVC(random_state=19)"
   ]
  },
  {
   "cell_type": "code",
   "execution_count": 3,
   "metadata": {},
   "outputs": [],
   "source": [
    "# Random Forest grid search\n",
    "param_forest = {\"n_estimators\":[300, 400], \"max_depth\":[5, 10, 15, 20]}\n",
    "grid_forest = GridSearchCV(random_forest, param_grid=param_forest, cv=10)"
   ]
  },
  {
   "cell_type": "code",
   "execution_count": 4,
   "metadata": {},
   "outputs": [
    {
     "data": {
      "text/plain": [
       "GridSearchCV(cv=10, error_score=nan,\n",
       "             estimator=RandomForestClassifier(bootstrap=True, ccp_alpha=0.0,\n",
       "                                              class_weight=None,\n",
       "                                              criterion='gini', max_depth=None,\n",
       "                                              max_features='auto',\n",
       "                                              max_leaf_nodes=None,\n",
       "                                              max_samples=None,\n",
       "                                              min_impurity_decrease=0.0,\n",
       "                                              min_impurity_split=None,\n",
       "                                              min_samples_leaf=1,\n",
       "                                              min_samples_split=2,\n",
       "                                              min_weight_fraction_leaf=0.0,\n",
       "                                              n_estimators=100, n_jobs=None,\n",
       "                                              oob_score=True, random_state=19,\n",
       "                                              verbose=0, warm_start=False),\n",
       "             iid='deprecated', n_jobs=None,\n",
       "             param_grid={'max_depth': [5, 10, 15, 20],\n",
       "                         'n_estimators': [300, 400]},\n",
       "             pre_dispatch='2*n_jobs', refit=True, return_train_score=False,\n",
       "             scoring=None, verbose=0)"
      ]
     },
     "execution_count": 4,
     "metadata": {},
     "output_type": "execute_result"
    }
   ],
   "source": [
    "grid_forest.fit(X_train_new, y_train_new)"
   ]
  },
  {
   "cell_type": "code",
   "execution_count": 5,
   "metadata": {},
   "outputs": [
    {
     "data": {
      "text/plain": [
       "{'max_depth': 20, 'n_estimators': 400}"
      ]
     },
     "execution_count": 5,
     "metadata": {},
     "output_type": "execute_result"
    }
   ],
   "source": [
    "grid_forest.best_params_"
   ]
  },
  {
   "cell_type": "code",
   "execution_count": 7,
   "metadata": {},
   "outputs": [
    {
     "data": {
      "text/plain": [
       "{'mean_fit_time': array([12.18688412, 16.05780041, 21.97823305, 29.70882988, 30.41397171,\n",
       "        40.52461584, 35.56753399, 69.62446673]),\n",
       " 'std_fit_time': array([ 0.22008636,  0.12045271,  0.20528849,  0.16260372,  0.09380517,\n",
       "         0.20901353,  0.27180396, 67.23866003]),\n",
       " 'mean_score_time': array([0.13015814, 0.17128446, 0.21044025, 0.27990613, 0.3221777 ,\n",
       "        0.42577553, 0.45924673, 0.6023747 ]),\n",
       " 'std_score_time': array([0.00418601, 0.00393056, 0.00838524, 0.01367975, 0.02285747,\n",
       "        0.03533156, 0.02955256, 0.04479299]),\n",
       " 'param_max_depth': masked_array(data=[5, 5, 10, 10, 15, 15, 20, 20],\n",
       "              mask=[False, False, False, False, False, False, False, False],\n",
       "        fill_value='?',\n",
       "             dtype=object),\n",
       " 'param_n_estimators': masked_array(data=[300, 400, 300, 400, 300, 400, 300, 400],\n",
       "              mask=[False, False, False, False, False, False, False, False],\n",
       "        fill_value='?',\n",
       "             dtype=object),\n",
       " 'params': [{'max_depth': 5, 'n_estimators': 300},\n",
       "  {'max_depth': 5, 'n_estimators': 400},\n",
       "  {'max_depth': 10, 'n_estimators': 300},\n",
       "  {'max_depth': 10, 'n_estimators': 400},\n",
       "  {'max_depth': 15, 'n_estimators': 300},\n",
       "  {'max_depth': 15, 'n_estimators': 400},\n",
       "  {'max_depth': 20, 'n_estimators': 300},\n",
       "  {'max_depth': 20, 'n_estimators': 400}],\n",
       " 'split0_test_score': array([0.56492182, 0.56594154, 0.55517788, 0.55472468, 0.54724677,\n",
       "        0.54713347, 0.55245864, 0.55166553]),\n",
       " 'split1_test_score': array([0.56696125, 0.56730116, 0.55699071, 0.55676411, 0.54837979,\n",
       "        0.54747337, 0.5490596 , 0.54985271]),\n",
       " 'split2_test_score': array([0.56050306, 0.56050306, 0.54781328, 0.5492862 , 0.5423748 ,\n",
       "        0.54135509, 0.54600045, 0.54588715]),\n",
       " 'split3_test_score': array([0.56571493, 0.56718785, 0.56242919, 0.56288239, 0.5489463 ,\n",
       "        0.54815318, 0.55098572, 0.5496261 ]),\n",
       " 'split4_test_score': array([0.80512123, 0.81157942, 0.8592794 , 0.86063902, 0.8944029 ,\n",
       "        0.89519601, 0.90992522, 0.91105824]),\n",
       " 'split5_test_score': array([0.81781101, 0.82279628, 0.87559483, 0.87672785, 0.91083163,\n",
       "        0.91173805, 0.92850668, 0.92850668]),\n",
       " 'split6_test_score': array([0.81996374, 0.82789486, 0.87525493, 0.87740766, 0.91128484,\n",
       "        0.91139814, 0.93043281, 0.93020621]),\n",
       " 'split7_test_score': array([0.82948108, 0.83446635, 0.88182642, 0.88250623, 0.91706322,\n",
       "        0.91593021, 0.93122592, 0.93201903]),\n",
       " 'split8_test_score': array([0.81631728, 0.82096317, 0.87036827, 0.86957507, 0.90492918,\n",
       "        0.90572238, 0.92577904, 0.92600567]),\n",
       " 'split9_test_score': array([0.82934844, 0.83263456, 0.87705382, 0.87818697, 0.91150142,\n",
       "        0.9121813 , 0.93031161, 0.93144476]),\n",
       " 'mean_test_score': array([0.71761439, 0.72112683, 0.74617887, 0.74687002, 0.76369608,\n",
       "        0.76362812, 0.77546857, 0.77562721]),\n",
       " 'std_test_score': array([0.12517265, 0.12743896, 0.15573656, 0.15604335, 0.17724059,\n",
       "        0.17775403, 0.18449546, 0.18491877]),\n",
       " 'rank_test_score': array([8, 7, 6, 5, 3, 4, 2, 1], dtype=int32)}"
      ]
     },
     "execution_count": 7,
     "metadata": {},
     "output_type": "execute_result"
    }
   ],
   "source": [
    "grid_forest.cv_results_"
   ]
  },
  {
   "cell_type": "code",
   "execution_count": 17,
   "metadata": {},
   "outputs": [
    {
     "data": {
      "text/plain": [
       "0.7756272088196796"
      ]
     },
     "execution_count": 17,
     "metadata": {},
     "output_type": "execute_result"
    }
   ],
   "source": [
    "# Best mean test score\n",
    "grid_forest.best_score_"
   ]
  },
  {
   "cell_type": "code",
   "execution_count": 14,
   "metadata": {},
   "outputs": [
    {
     "data": {
      "text/plain": [
       "0.9308391307303587"
      ]
     },
     "metadata": {},
     "output_type": "display_data"
    },
    {
     "data": {
      "text/plain": [
       "0.700141898864809"
      ]
     },
     "metadata": {},
     "output_type": "display_data"
    }
   ],
   "source": [
    "display(grid_forest.score(X_train_new, y_train_new))\n",
    "display(grid_forest.score(X_test, y_test))"
   ]
  },
  {
   "cell_type": "markdown",
   "metadata": {},
   "source": [
    "### Confusion Matrix"
   ]
  },
  {
   "cell_type": "code",
   "execution_count": 18,
   "metadata": {},
   "outputs": [],
   "source": [
    "# Able to determine metrics for a confusion matrix\n",
    "def confusion_matrix_metrics(TN:int, FP:int, FN:int, TP:int, P:int, N:int):\n",
    "    print(\"TNR:\", TN/N)\n",
    "    print(\"FPR:\", FP/N)\n",
    "    print(\"FNR:\", FN/P)\n",
    "    print(\"TPR:\", TP/P)\n",
    "    print(\"Precision:\", TP/(TP+FP))  # Of the points your model predicted to be positive, how many of those points are truly positive\n",
    "    print(\"Recall:\", TP/(TP+FN))  # Of all the actually positive points, how many of them did the model predict as positive\n",
    "    print(\"F1 Score:\", (2*TP)/((2*TP) + (FP + FN)))  # the harmonic mean of precision and recall and is a better measure than accuracy"
   ]
  },
  {
   "cell_type": "code",
   "execution_count": 19,
   "metadata": {},
   "outputs": [
    {
     "name": "stdout",
     "output_type": "stream",
     "text": [
      "Confusion Matrix - Training Dataset\n",
      "Predicted      0      1    All\n",
      "True                          \n",
      "0          39091   5038  44129\n",
      "1           1066  43063  44129\n",
      "All        40157  48101  88258\n"
     ]
    }
   ],
   "source": [
    "print('Confusion Matrix - Training Dataset')\n",
    "print(pd.crosstab(y_train_new, grid_forest.predict(X_train_new), rownames=['True'], colnames=['Predicted'], margins=True))"
   ]
  },
  {
   "cell_type": "code",
   "execution_count": 20,
   "metadata": {},
   "outputs": [
    {
     "name": "stdout",
     "output_type": "stream",
     "text": [
      "TNR: 0.8858347118674794\n",
      "FPR: 0.11416528813252057\n",
      "FNR: 0.02415645040676199\n",
      "TPR: 0.975843549593238\n",
      "Precision: 0.8952620527639757\n",
      "Recall: 0.975843549593238\n",
      "F1 Score: 0.9338176298384474\n"
     ]
    }
   ],
   "source": [
    "confusion_matrix_metrics(TN=39091, FP=5038, FN=1066, TP=43063, P=44129, N=44129)"
   ]
  },
  {
   "cell_type": "code",
   "execution_count": 21,
   "metadata": {},
   "outputs": [
    {
     "name": "stdout",
     "output_type": "stream",
     "text": [
      "Confusion Matrix - Testing Dataset\n",
      "Predicted     0      1    All\n",
      "True                         \n",
      "0           821   3688   4509\n",
      "1           961  10034  10995\n",
      "All        1782  13722  15504\n"
     ]
    }
   ],
   "source": [
    "print('Confusion Matrix - Testing Dataset')\n",
    "print(pd.crosstab(y_test, grid_forest.predict(X_test), rownames=['True'], colnames=['Predicted'], margins=True))"
   ]
  },
  {
   "cell_type": "code",
   "execution_count": 22,
   "metadata": {},
   "outputs": [
    {
     "name": "stdout",
     "output_type": "stream",
     "text": [
      "TNR: 0.18208028387669106\n",
      "FPR: 0.8179197161233089\n",
      "FNR: 0.08740336516598454\n",
      "TPR: 0.9125966348340154\n",
      "Precision: 0.7312345139192538\n",
      "Recall: 0.9125966348340154\n",
      "F1 Score: 0.8119108306024194\n"
     ]
    }
   ],
   "source": [
    "confusion_matrix_metrics(TN=821, FP=3688, FN=961, TP=10034, P=10995, N=4509)"
   ]
  },
  {
   "cell_type": "markdown",
   "metadata": {},
   "source": [
    "## Support Vector Machine"
   ]
  },
  {
   "cell_type": "code",
   "execution_count": 9,
   "metadata": {},
   "outputs": [],
   "source": [
    "# Support Vector Machine grid search\n",
    "param_svm = {\"C\":[0.1, 1.0, 100, 1000]}\n",
    "grid_svm = GridSearchCV(svm, param_grid=param_svm)"
   ]
  },
  {
   "cell_type": "code",
   "execution_count": null,
   "metadata": {},
   "outputs": [],
   "source": [
    "grid_svm.fit(X_train_rescaled, y_train)"
   ]
  }
 ],
 "metadata": {
  "kernelspec": {
   "display_name": "Python 3",
   "language": "python",
   "name": "python3"
  },
  "language_info": {
   "codemirror_mode": {
    "name": "ipython",
    "version": 3
   },
   "file_extension": ".py",
   "mimetype": "text/x-python",
   "name": "python",
   "nbconvert_exporter": "python",
   "pygments_lexer": "ipython3",
   "version": "3.8.1"
  }
 },
 "nbformat": 4,
 "nbformat_minor": 4
}
