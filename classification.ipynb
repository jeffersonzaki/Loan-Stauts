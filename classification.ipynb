{
 "cells": [
  {
   "cell_type": "markdown",
   "metadata": {},
   "source": [
    "# Imports"
   ]
  },
  {
   "cell_type": "code",
   "execution_count": 1,
   "metadata": {},
   "outputs": [
    {
     "name": "stderr",
     "output_type": "stream",
     "text": [
      "Using TensorFlow backend.\n",
      "/Library/Frameworks/Python.framework/Versions/3.8/lib/python3.8/site-packages/pandas/core/frame.py:4110: SettingWithCopyWarning: \n",
      "A value is trying to be set on a copy of a slice from a DataFrame\n",
      "\n",
      "See the caveats in the documentation: http://pandas.pydata.org/pandas-docs/stable/user_guide/indexing.html#returning-a-view-versus-a-copy\n",
      "  return super().drop(\n"
     ]
    }
   ],
   "source": [
    "# Python Scripts\n",
    "%run -i \"Scripts/scripts.py\"\n",
    "\n",
    "# Machine learning models\n",
    "from sklearn.ensemble import RandomForestClassifier\n",
    "from sklearn.svm import SVC\n",
    "from sklearn.neighbors import KNeighborsClassifier\n",
    "from sklearn.ensemble import GradientBoostingClassifier\n",
    "from sklearn.ensemble import AdaBoostClassifier\n",
    "\n",
    "# Pipeline\n",
    "from sklearn.pipeline import Pipeline\n",
    "\n",
    "# Gridsearch\n",
    "from sklearn.model_selection import GridSearchCV\n",
    "\n",
    "# AUC ROC CURVE\n",
    "from sklearn.metrics import roc_auc_score"
   ]
  },
  {
   "cell_type": "markdown",
   "metadata": {},
   "source": [
    "## Random Forest"
   ]
  },
  {
   "cell_type": "code",
   "execution_count": 8,
   "metadata": {},
   "outputs": [],
   "source": [
    "random_forest = RandomForestClassifier(random_state=19, oob_score=True)"
   ]
  },
  {
   "cell_type": "code",
   "execution_count": 9,
   "metadata": {},
   "outputs": [],
   "source": [
    "# Random Forest grid search\n",
    "param_forest = {\"n_estimators\":[300, 400], \"max_depth\":[5, 10, 15, 20]}\n",
    "grid_forest = GridSearchCV(random_forest, param_grid=param_forest, cv=10)"
   ]
  },
  {
   "cell_type": "code",
   "execution_count": 4,
   "metadata": {},
   "outputs": [
    {
     "data": {
      "text/plain": [
       "GridSearchCV(cv=10, error_score=nan,\n",
       "             estimator=RandomForestClassifier(bootstrap=True, ccp_alpha=0.0,\n",
       "                                              class_weight=None,\n",
       "                                              criterion='gini', max_depth=None,\n",
       "                                              max_features='auto',\n",
       "                                              max_leaf_nodes=None,\n",
       "                                              max_samples=None,\n",
       "                                              min_impurity_decrease=0.0,\n",
       "                                              min_impurity_split=None,\n",
       "                                              min_samples_leaf=1,\n",
       "                                              min_samples_split=2,\n",
       "                                              min_weight_fraction_leaf=0.0,\n",
       "                                              n_estimators=100, n_jobs=None,\n",
       "                                              oob_score=True, random_state=19,\n",
       "                                              verbose=0, warm_start=False),\n",
       "             iid='deprecated', n_jobs=None,\n",
       "             param_grid={'max_depth': [5, 10, 15, 20],\n",
       "                         'n_estimators': [300, 400]},\n",
       "             pre_dispatch='2*n_jobs', refit=True, return_train_score=False,\n",
       "             scoring=None, verbose=0)"
      ]
     },
     "execution_count": 4,
     "metadata": {},
     "output_type": "execute_result"
    }
   ],
   "source": [
    "grid_forest.fit(X_train_new, y_train_new)"
   ]
  },
  {
   "cell_type": "code",
   "execution_count": 5,
   "metadata": {},
   "outputs": [
    {
     "data": {
      "text/plain": [
       "{'max_depth': 20, 'n_estimators': 400}"
      ]
     },
     "execution_count": 5,
     "metadata": {},
     "output_type": "execute_result"
    }
   ],
   "source": [
    "grid_forest.best_params_"
   ]
  },
  {
   "cell_type": "code",
   "execution_count": 7,
   "metadata": {},
   "outputs": [
    {
     "data": {
      "text/plain": [
       "{'mean_fit_time': array([12.18688412, 16.05780041, 21.97823305, 29.70882988, 30.41397171,\n",
       "        40.52461584, 35.56753399, 69.62446673]),\n",
       " 'std_fit_time': array([ 0.22008636,  0.12045271,  0.20528849,  0.16260372,  0.09380517,\n",
       "         0.20901353,  0.27180396, 67.23866003]),\n",
       " 'mean_score_time': array([0.13015814, 0.17128446, 0.21044025, 0.27990613, 0.3221777 ,\n",
       "        0.42577553, 0.45924673, 0.6023747 ]),\n",
       " 'std_score_time': array([0.00418601, 0.00393056, 0.00838524, 0.01367975, 0.02285747,\n",
       "        0.03533156, 0.02955256, 0.04479299]),\n",
       " 'param_max_depth': masked_array(data=[5, 5, 10, 10, 15, 15, 20, 20],\n",
       "              mask=[False, False, False, False, False, False, False, False],\n",
       "        fill_value='?',\n",
       "             dtype=object),\n",
       " 'param_n_estimators': masked_array(data=[300, 400, 300, 400, 300, 400, 300, 400],\n",
       "              mask=[False, False, False, False, False, False, False, False],\n",
       "        fill_value='?',\n",
       "             dtype=object),\n",
       " 'params': [{'max_depth': 5, 'n_estimators': 300},\n",
       "  {'max_depth': 5, 'n_estimators': 400},\n",
       "  {'max_depth': 10, 'n_estimators': 300},\n",
       "  {'max_depth': 10, 'n_estimators': 400},\n",
       "  {'max_depth': 15, 'n_estimators': 300},\n",
       "  {'max_depth': 15, 'n_estimators': 400},\n",
       "  {'max_depth': 20, 'n_estimators': 300},\n",
       "  {'max_depth': 20, 'n_estimators': 400}],\n",
       " 'split0_test_score': array([0.56492182, 0.56594154, 0.55517788, 0.55472468, 0.54724677,\n",
       "        0.54713347, 0.55245864, 0.55166553]),\n",
       " 'split1_test_score': array([0.56696125, 0.56730116, 0.55699071, 0.55676411, 0.54837979,\n",
       "        0.54747337, 0.5490596 , 0.54985271]),\n",
       " 'split2_test_score': array([0.56050306, 0.56050306, 0.54781328, 0.5492862 , 0.5423748 ,\n",
       "        0.54135509, 0.54600045, 0.54588715]),\n",
       " 'split3_test_score': array([0.56571493, 0.56718785, 0.56242919, 0.56288239, 0.5489463 ,\n",
       "        0.54815318, 0.55098572, 0.5496261 ]),\n",
       " 'split4_test_score': array([0.80512123, 0.81157942, 0.8592794 , 0.86063902, 0.8944029 ,\n",
       "        0.89519601, 0.90992522, 0.91105824]),\n",
       " 'split5_test_score': array([0.81781101, 0.82279628, 0.87559483, 0.87672785, 0.91083163,\n",
       "        0.91173805, 0.92850668, 0.92850668]),\n",
       " 'split6_test_score': array([0.81996374, 0.82789486, 0.87525493, 0.87740766, 0.91128484,\n",
       "        0.91139814, 0.93043281, 0.93020621]),\n",
       " 'split7_test_score': array([0.82948108, 0.83446635, 0.88182642, 0.88250623, 0.91706322,\n",
       "        0.91593021, 0.93122592, 0.93201903]),\n",
       " 'split8_test_score': array([0.81631728, 0.82096317, 0.87036827, 0.86957507, 0.90492918,\n",
       "        0.90572238, 0.92577904, 0.92600567]),\n",
       " 'split9_test_score': array([0.82934844, 0.83263456, 0.87705382, 0.87818697, 0.91150142,\n",
       "        0.9121813 , 0.93031161, 0.93144476]),\n",
       " 'mean_test_score': array([0.71761439, 0.72112683, 0.74617887, 0.74687002, 0.76369608,\n",
       "        0.76362812, 0.77546857, 0.77562721]),\n",
       " 'std_test_score': array([0.12517265, 0.12743896, 0.15573656, 0.15604335, 0.17724059,\n",
       "        0.17775403, 0.18449546, 0.18491877]),\n",
       " 'rank_test_score': array([8, 7, 6, 5, 3, 4, 2, 1], dtype=int32)}"
      ]
     },
     "execution_count": 7,
     "metadata": {},
     "output_type": "execute_result"
    }
   ],
   "source": [
    "grid_forest.cv_results_"
   ]
  },
  {
   "cell_type": "code",
   "execution_count": 17,
   "metadata": {},
   "outputs": [
    {
     "data": {
      "text/plain": [
       "0.7756272088196796"
      ]
     },
     "execution_count": 17,
     "metadata": {},
     "output_type": "execute_result"
    }
   ],
   "source": [
    "# Best mean test score\n",
    "grid_forest.best_score_"
   ]
  },
  {
   "cell_type": "code",
   "execution_count": 14,
   "metadata": {},
   "outputs": [
    {
     "data": {
      "text/plain": [
       "0.9308391307303587"
      ]
     },
     "metadata": {},
     "output_type": "display_data"
    },
    {
     "data": {
      "text/plain": [
       "0.700141898864809"
      ]
     },
     "metadata": {},
     "output_type": "display_data"
    }
   ],
   "source": [
    "display(grid_forest.score(X_train_new, y_train_new))\n",
    "display(grid_forest.score(X_test, y_test))"
   ]
  },
  {
   "cell_type": "markdown",
   "metadata": {},
   "source": [
    "### Confusion Matrix"
   ]
  },
  {
   "cell_type": "code",
   "execution_count": 2,
   "metadata": {},
   "outputs": [],
   "source": [
    "# Able to determine metrics for a confusion matrix\n",
    "def confusion_matrix_metrics(TN:int, FP:int, FN:int, TP:int, P:int, N:int):\n",
    "    print(\"TNR:\", TN/N)\n",
    "    print(\"FPR:\", FP/N)\n",
    "    print(\"FNR:\", FN/P)\n",
    "    print(\"TPR:\", TP/P)\n",
    "    print(\"Precision:\", TP/(TP+FP))  # % of our positive predictions that we predicted correctly.\n",
    "    print(\"Recall:\", TP/(TP+FN))  # % of ground truth positives that we predicted correctly.\n",
    "    print(\"F1 Score:\", (2*TP)/((2*TP) + (FP + FN)))  # the harmonic mean of precision and recall and is a better measure than accuracy"
   ]
  },
  {
   "cell_type": "code",
   "execution_count": 19,
   "metadata": {},
   "outputs": [
    {
     "name": "stdout",
     "output_type": "stream",
     "text": [
      "Confusion Matrix - Training Dataset\n",
      "Predicted      0      1    All\n",
      "True                          \n",
      "0          39091   5038  44129\n",
      "1           1066  43063  44129\n",
      "All        40157  48101  88258\n"
     ]
    }
   ],
   "source": [
    "print('Confusion Matrix - Training Dataset')\n",
    "print(pd.crosstab(y_train_new, grid_forest.predict(X_train_new), rownames=['True'], colnames=['Predicted'], margins=True))"
   ]
  },
  {
   "cell_type": "code",
   "execution_count": 20,
   "metadata": {},
   "outputs": [
    {
     "name": "stdout",
     "output_type": "stream",
     "text": [
      "TNR: 0.8858347118674794\n",
      "FPR: 0.11416528813252057\n",
      "FNR: 0.02415645040676199\n",
      "TPR: 0.975843549593238\n",
      "Precision: 0.8952620527639757\n",
      "Recall: 0.975843549593238\n",
      "F1 Score: 0.9338176298384474\n"
     ]
    }
   ],
   "source": [
    "confusion_matrix_metrics(TN=39091, FP=5038, FN=1066, TP=43063, P=44129, N=44129)"
   ]
  },
  {
   "cell_type": "code",
   "execution_count": 21,
   "metadata": {},
   "outputs": [
    {
     "name": "stdout",
     "output_type": "stream",
     "text": [
      "Confusion Matrix - Testing Dataset\n",
      "Predicted     0      1    All\n",
      "True                         \n",
      "0           821   3688   4509\n",
      "1           961  10034  10995\n",
      "All        1782  13722  15504\n"
     ]
    }
   ],
   "source": [
    "print('Confusion Matrix - Testing Dataset')\n",
    "print(pd.crosstab(y_test, grid_forest.predict(X_test), rownames=['True'], colnames=['Predicted'], margins=True))"
   ]
  },
  {
   "cell_type": "code",
   "execution_count": 22,
   "metadata": {},
   "outputs": [
    {
     "name": "stdout",
     "output_type": "stream",
     "text": [
      "TNR: 0.18208028387669106\n",
      "FPR: 0.8179197161233089\n",
      "FNR: 0.08740336516598454\n",
      "TPR: 0.9125966348340154\n",
      "Precision: 0.7312345139192538\n",
      "Recall: 0.9125966348340154\n",
      "F1 Score: 0.8119108306024194\n"
     ]
    }
   ],
   "source": [
    "confusion_matrix_metrics(TN=821, FP=3688, FN=961, TP=10034, P=10995, N=4509)"
   ]
  },
  {
   "cell_type": "markdown",
   "metadata": {},
   "source": [
    "### AUC ROC CURVE"
   ]
  },
  {
   "cell_type": "code",
   "execution_count": 25,
   "metadata": {},
   "outputs": [
    {
     "data": {
      "text/plain": [
       "0.9308391307303587"
      ]
     },
     "execution_count": 25,
     "metadata": {},
     "output_type": "execute_result"
    }
   ],
   "source": [
    "# Training data\n",
    "roc_auc_score(y_train_new, grid_forest.predict(X_train_new))"
   ]
  },
  {
   "cell_type": "code",
   "execution_count": 24,
   "metadata": {},
   "outputs": [
    {
     "data": {
      "text/plain": [
       "0.5473384593553532"
      ]
     },
     "execution_count": 24,
     "metadata": {},
     "output_type": "execute_result"
    }
   ],
   "source": [
    "# Testing data. Should not be using ROC AUC SCORE because data is imbalanced\n",
    "roc_auc_score(y_test, grid_forest.predict(X_test))"
   ]
  },
  {
   "cell_type": "markdown",
   "metadata": {},
   "source": [
    "# Feature Selection "
   ]
  },
  {
   "cell_type": "code",
   "execution_count": 97,
   "metadata": {},
   "outputs": [],
   "source": [
    "# Appling random forest instantiation with grid search hyperparameter tuning variables\n",
    "rf_clf = RandomForestClassifier(n_estimators=400, max_depth=20, random_state=19, oob_score=True)"
   ]
  },
  {
   "cell_type": "code",
   "execution_count": 98,
   "metadata": {},
   "outputs": [
    {
     "data": {
      "text/plain": [
       "RandomForestClassifier(bootstrap=True, ccp_alpha=0.0, class_weight=None,\n",
       "                       criterion='gini', max_depth=20, max_features='auto',\n",
       "                       max_leaf_nodes=None, max_samples=None,\n",
       "                       min_impurity_decrease=0.0, min_impurity_split=None,\n",
       "                       min_samples_leaf=1, min_samples_split=2,\n",
       "                       min_weight_fraction_leaf=0.0, n_estimators=400,\n",
       "                       n_jobs=None, oob_score=True, random_state=19, verbose=0,\n",
       "                       warm_start=False)"
      ]
     },
     "execution_count": 98,
     "metadata": {},
     "output_type": "execute_result"
    }
   ],
   "source": [
    "# Passing SMOTE data through random forest\n",
    "rf_clf.fit(X_train_new, y_train_new)"
   ]
  },
  {
   "cell_type": "code",
   "execution_count": 6,
   "metadata": {},
   "outputs": [
    {
     "data": {
      "text/plain": [
       "0.7848353690317025"
      ]
     },
     "execution_count": 6,
     "metadata": {},
     "output_type": "execute_result"
    }
   ],
   "source": [
    "# Out of Bag data\n",
    "rf_clf.oob_score_"
   ]
  },
  {
   "cell_type": "code",
   "execution_count": 7,
   "metadata": {},
   "outputs": [
    {
     "data": {
      "text/plain": [
       "0.9308391307303587"
      ]
     },
     "metadata": {},
     "output_type": "display_data"
    },
    {
     "data": {
      "text/plain": [
       "0.700141898864809"
      ]
     },
     "metadata": {},
     "output_type": "display_data"
    }
   ],
   "source": [
    "display(rf_clf.score(X_train_new, y_train_new))\n",
    "display(rf_clf.score(X_test, y_test))"
   ]
  },
  {
   "cell_type": "code",
   "execution_count": 8,
   "metadata": {},
   "outputs": [
    {
     "data": {
      "text/plain": [
       "<BarContainer object of 40 artists>"
      ]
     },
     "execution_count": 8,
     "metadata": {},
     "output_type": "execute_result"
    },
    {
     "data": {
      "image/png": "[encoded data removed]",
      "text/plain": [
       "<Figure size 1080x720 with 1 Axes>"
      ]
     },
     "metadata": {
      "needs_background": "light"
     },
     "output_type": "display_data"
    }
   ],
   "source": [
    "# Graphing\n",
    "fig, ax = plt.subplots(figsize=(15, 10))\n",
    "ax.barh(width=rf_clf.feature_importances_, y=X_train_new.columns)"
   ]
  },
  {
   "cell_type": "code",
   "execution_count": 99,
   "metadata": {},
   "outputs": [
    {
     "name": "stdout",
     "output_type": "stream",
     "text": [
      "(array([ 0,  1,  2,  3,  5,  7,  8, 11, 22, 24]),)\n",
      "10\n"
     ]
    }
   ],
   "source": [
    "# Selecting the top features at a cap of 0.05\n",
    "top_important_features = np.where(rf_clf.feature_importances_ > 0.05)\n",
    "print(top_important_features)\n",
    "print(len(top_important_features[0]))  # Number of features that qualify"
   ]
  },
  {
   "cell_type": "code",
   "execution_count": 100,
   "metadata": {},
   "outputs": [
    {
     "data": {
      "text/plain": [
       "['Current Loan Amount',\n",
       " 'Credit Score',\n",
       " 'Annual Income',\n",
       " 'Monthly Debt',\n",
       " 'Number of Open Accounts',\n",
       " 'Current Credit Balance',\n",
       " 'Maximum Open Credit',\n",
       " 'Term_Short Term',\n",
       " 'Home Ownership_Home Mortgage',\n",
       " 'Home Ownership_Rent']"
      ]
     },
     "execution_count": 100,
     "metadata": {},
     "output_type": "execute_result"
    }
   ],
   "source": [
    "# Extracting the top feature column names\n",
    "top_important_feature_names = [columns for columns in X_train_new.columns[top_important_features]]\n",
    "top_important_feature_names"
   ]
  },
  {
   "cell_type": "code",
   "execution_count": 101,
   "metadata": {},
   "outputs": [],
   "source": [
    "# Creating new training and testing data with top features\n",
    "important_train_features = X_train_new[top_important_feature_names]\n",
    "important_test_features = X_test[top_important_feature_names]"
   ]
  },
  {
   "cell_type": "code",
   "execution_count": 7,
   "metadata": {},
   "outputs": [
    {
     "data": {
      "text/plain": [
       "((88258, 10), (15504, 10), (88258,), (15504,))"
      ]
     },
     "execution_count": 7,
     "metadata": {},
     "output_type": "execute_result"
    }
   ],
   "source": [
    "important_train_features.shape, important_test_features.shape, y_train_new.shape, y_test.shape"
   ]
  },
  {
   "cell_type": "code",
   "execution_count": 114,
   "metadata": {},
   "outputs": [
    {
     "data": {
      "text/html": [
       "<div>\n",
       "<style scoped>\n",
       "    .dataframe tbody tr th:only-of-type {\n",
       "        vertical-align: middle;\n",
       "    }\n",
       "\n",
       "    .dataframe tbody tr th {\n",
       "        vertical-align: top;\n",
       "    }\n",
       "\n",
       "    .dataframe thead th {\n",
       "        text-align: right;\n",
       "    }\n",
       "</style>\n",
       "<table border=\"1\" class=\"dataframe\">\n",
       "  <thead>\n",
       "    <tr style=\"text-align: right;\">\n",
       "      <th></th>\n",
       "      <th>Current Loan Amount</th>\n",
       "      <th>Credit Score</th>\n",
       "      <th>Annual Income</th>\n",
       "      <th>Monthly Debt</th>\n",
       "      <th>Number of Open Accounts</th>\n",
       "      <th>Current Credit Balance</th>\n",
       "      <th>Maximum Open Credit</th>\n",
       "      <th>Term_Short Term</th>\n",
       "      <th>Home Ownership_Home Mortgage</th>\n",
       "      <th>Home Ownership_Rent</th>\n",
       "    </tr>\n",
       "  </thead>\n",
       "  <tbody>\n",
       "    <tr>\n",
       "      <th>0</th>\n",
       "      <td>44572.0</td>\n",
       "      <td>721.0</td>\n",
       "      <td>481270.0</td>\n",
       "      <td>5173.70</td>\n",
       "      <td>3.0</td>\n",
       "      <td>13623.0</td>\n",
       "      <td>26752.0</td>\n",
       "      <td>1</td>\n",
       "      <td>0</td>\n",
       "      <td>0</td>\n",
       "    </tr>\n",
       "    <tr>\n",
       "      <th>1</th>\n",
       "      <td>199958.0</td>\n",
       "      <td>74.0</td>\n",
       "      <td>973370.0</td>\n",
       "      <td>17240.60</td>\n",
       "      <td>6.0</td>\n",
       "      <td>88502.0</td>\n",
       "      <td>112970.0</td>\n",
       "      <td>1</td>\n",
       "      <td>0</td>\n",
       "      <td>0</td>\n",
       "    </tr>\n",
       "    <tr>\n",
       "      <th>2</th>\n",
       "      <td>516604.0</td>\n",
       "      <td>714.0</td>\n",
       "      <td>1357037.0</td>\n",
       "      <td>23748.29</td>\n",
       "      <td>14.0</td>\n",
       "      <td>393053.0</td>\n",
       "      <td>524942.0</td>\n",
       "      <td>1</td>\n",
       "      <td>0</td>\n",
       "      <td>0</td>\n",
       "    </tr>\n",
       "    <tr>\n",
       "      <th>3</th>\n",
       "      <td>532576.0</td>\n",
       "      <td>716.0</td>\n",
       "      <td>1154706.0</td>\n",
       "      <td>0.00</td>\n",
       "      <td>1.0</td>\n",
       "      <td>0.0</td>\n",
       "      <td>0.0</td>\n",
       "      <td>1</td>\n",
       "      <td>0</td>\n",
       "      <td>1</td>\n",
       "    </tr>\n",
       "    <tr>\n",
       "      <th>4</th>\n",
       "      <td>90024.0</td>\n",
       "      <td>749.0</td>\n",
       "      <td>633935.0</td>\n",
       "      <td>12837.16</td>\n",
       "      <td>11.0</td>\n",
       "      <td>66880.0</td>\n",
       "      <td>285736.0</td>\n",
       "      <td>1</td>\n",
       "      <td>0</td>\n",
       "      <td>1</td>\n",
       "    </tr>\n",
       "  </tbody>\n",
       "</table>\n",
       "</div>"
      ],
      "text/plain": [
       "   Current Loan Amount  Credit Score  Annual Income  Monthly Debt  \\\n",
       "0              44572.0         721.0       481270.0       5173.70   \n",
       "1             199958.0          74.0       973370.0      17240.60   \n",
       "2             516604.0         714.0      1357037.0      23748.29   \n",
       "3             532576.0         716.0      1154706.0          0.00   \n",
       "4              90024.0         749.0       633935.0      12837.16   \n",
       "\n",
       "   Number of Open Accounts  Current Credit Balance  Maximum Open Credit  \\\n",
       "0                      3.0                 13623.0              26752.0   \n",
       "1                      6.0                 88502.0             112970.0   \n",
       "2                     14.0                393053.0             524942.0   \n",
       "3                      1.0                     0.0                  0.0   \n",
       "4                     11.0                 66880.0             285736.0   \n",
       "\n",
       "   Term_Short Term  Home Ownership_Home Mortgage  Home Ownership_Rent  \n",
       "0                1                             0                    0  \n",
       "1                1                             0                    0  \n",
       "2                1                             0                    0  \n",
       "3                1                             0                    1  \n",
       "4                1                             0                    1  "
      ]
     },
     "execution_count": 114,
     "metadata": {},
     "output_type": "execute_result"
    }
   ],
   "source": [
    "important_train_features.head()"
   ]
  },
  {
   "cell_type": "code",
   "execution_count": 115,
   "metadata": {},
   "outputs": [
    {
     "data": {
      "text/html": [
       "<div>\n",
       "<style scoped>\n",
       "    .dataframe tbody tr th:only-of-type {\n",
       "        vertical-align: middle;\n",
       "    }\n",
       "\n",
       "    .dataframe tbody tr th {\n",
       "        vertical-align: top;\n",
       "    }\n",
       "\n",
       "    .dataframe thead th {\n",
       "        text-align: right;\n",
       "    }\n",
       "</style>\n",
       "<table border=\"1\" class=\"dataframe\">\n",
       "  <thead>\n",
       "    <tr style=\"text-align: right;\">\n",
       "      <th></th>\n",
       "      <th>Current Loan Amount</th>\n",
       "      <th>Credit Score</th>\n",
       "      <th>Annual Income</th>\n",
       "      <th>Monthly Debt</th>\n",
       "      <th>Number of Open Accounts</th>\n",
       "      <th>Current Credit Balance</th>\n",
       "      <th>Maximum Open Credit</th>\n",
       "      <th>Term_Short Term</th>\n",
       "      <th>Home Ownership_Home Mortgage</th>\n",
       "      <th>Home Ownership_Rent</th>\n",
       "    </tr>\n",
       "  </thead>\n",
       "  <tbody>\n",
       "    <tr>\n",
       "      <th>74241</th>\n",
       "      <td>642598.0</td>\n",
       "      <td>74.0</td>\n",
       "      <td>1109942.0</td>\n",
       "      <td>9526.79</td>\n",
       "      <td>12.0</td>\n",
       "      <td>193781.0</td>\n",
       "      <td>1752938.0</td>\n",
       "      <td>1</td>\n",
       "      <td>1</td>\n",
       "      <td>0</td>\n",
       "    </tr>\n",
       "    <tr>\n",
       "      <th>41986</th>\n",
       "      <td>444048.0</td>\n",
       "      <td>724.0</td>\n",
       "      <td>1246362.0</td>\n",
       "      <td>13398.42</td>\n",
       "      <td>9.0</td>\n",
       "      <td>20197.0</td>\n",
       "      <td>95436.0</td>\n",
       "      <td>0</td>\n",
       "      <td>1</td>\n",
       "      <td>0</td>\n",
       "    </tr>\n",
       "    <tr>\n",
       "      <th>36143</th>\n",
       "      <td>467324.0</td>\n",
       "      <td>677.0</td>\n",
       "      <td>1424430.0</td>\n",
       "      <td>21603.95</td>\n",
       "      <td>23.0</td>\n",
       "      <td>267273.0</td>\n",
       "      <td>801768.0</td>\n",
       "      <td>0</td>\n",
       "      <td>0</td>\n",
       "      <td>1</td>\n",
       "    </tr>\n",
       "    <tr>\n",
       "      <th>62116</th>\n",
       "      <td>84656.0</td>\n",
       "      <td>732.0</td>\n",
       "      <td>835506.0</td>\n",
       "      <td>4783.25</td>\n",
       "      <td>7.0</td>\n",
       "      <td>10070.0</td>\n",
       "      <td>65824.0</td>\n",
       "      <td>1</td>\n",
       "      <td>1</td>\n",
       "      <td>0</td>\n",
       "    </tr>\n",
       "    <tr>\n",
       "      <th>57132</th>\n",
       "      <td>21868.0</td>\n",
       "      <td>665.0</td>\n",
       "      <td>1133502.0</td>\n",
       "      <td>15491.27</td>\n",
       "      <td>4.0</td>\n",
       "      <td>58501.0</td>\n",
       "      <td>69982.0</td>\n",
       "      <td>1</td>\n",
       "      <td>0</td>\n",
       "      <td>1</td>\n",
       "    </tr>\n",
       "  </tbody>\n",
       "</table>\n",
       "</div>"
      ],
      "text/plain": [
       "       Current Loan Amount  Credit Score  Annual Income  Monthly Debt  \\\n",
       "74241             642598.0          74.0      1109942.0       9526.79   \n",
       "41986             444048.0         724.0      1246362.0      13398.42   \n",
       "36143             467324.0         677.0      1424430.0      21603.95   \n",
       "62116              84656.0         732.0       835506.0       4783.25   \n",
       "57132              21868.0         665.0      1133502.0      15491.27   \n",
       "\n",
       "       Number of Open Accounts  Current Credit Balance  Maximum Open Credit  \\\n",
       "74241                     12.0                193781.0            1752938.0   \n",
       "41986                      9.0                 20197.0              95436.0   \n",
       "36143                     23.0                267273.0             801768.0   \n",
       "62116                      7.0                 10070.0              65824.0   \n",
       "57132                      4.0                 58501.0              69982.0   \n",
       "\n",
       "       Term_Short Term  Home Ownership_Home Mortgage  Home Ownership_Rent  \n",
       "74241                1                             1                    0  \n",
       "41986                0                             1                    0  \n",
       "36143                0                             0                    1  \n",
       "62116                1                             1                    0  \n",
       "57132                1                             0                    1  "
      ]
     },
     "execution_count": 115,
     "metadata": {},
     "output_type": "execute_result"
    }
   ],
   "source": [
    "important_test_features.head()"
   ]
  },
  {
   "cell_type": "markdown",
   "metadata": {},
   "source": [
    "### Random Forest Model Evaluation: Feature Extraction"
   ]
  },
  {
   "cell_type": "code",
   "execution_count": 120,
   "metadata": {},
   "outputs": [
    {
     "name": "stdout",
     "output_type": "stream",
     "text": [
      "Train Score: 0.9504294228285255\n",
      "Test Score: 0.6727296181630547\n",
      "OOB Score: 0.7639080876521108\n"
     ]
    }
   ],
   "source": [
    "print(\"Train Score:\", rf_clf.score(important_train_features, y_train_new))\n",
    "print(\"Test Score:\", rf_clf.score(important_test_features, y_test))\n",
    "print(\"OOB Score:\", rf_clf.oob_score_)"
   ]
  },
  {
   "cell_type": "code",
   "execution_count": 121,
   "metadata": {},
   "outputs": [
    {
     "name": "stdout",
     "output_type": "stream",
     "text": [
      "Confusion Matrix - Training Dataset\n",
      "Predicted      0      1    All\n",
      "True                          \n",
      "0          41246   2883  44129\n",
      "1           1492  42637  44129\n",
      "All        42738  45520  88258\n"
     ]
    }
   ],
   "source": [
    "print('Confusion Matrix - Training Dataset')\n",
    "print(pd.crosstab(y_train_new, rf_clf.predict(important_train_features), rownames=['True'], colnames=['Predicted'], margins=True))"
   ]
  },
  {
   "cell_type": "markdown",
   "metadata": {},
   "source": [
    "### Confusion Matrix"
   ]
  },
  {
   "cell_type": "code",
   "execution_count": 122,
   "metadata": {},
   "outputs": [
    {
     "name": "stdout",
     "output_type": "stream",
     "text": [
      "TNR: 0.9346688118924064\n",
      "FPR: 0.06533118810759364\n",
      "FNR: 0.03380996623535543\n",
      "TPR: 0.9661900337646445\n",
      "Precision: 0.9366652021089631\n",
      "Recall: 0.9661900337646445\n",
      "F1 Score: 0.9511985632857032\n"
     ]
    }
   ],
   "source": [
    "confusion_matrix_metrics(TN=41246, FP=2883, FN=1492, TP=42637, P=44129, N=44129)"
   ]
  },
  {
   "cell_type": "code",
   "execution_count": 124,
   "metadata": {},
   "outputs": [
    {
     "name": "stdout",
     "output_type": "stream",
     "text": [
      "Confusion Matrix - Testing Dataset\n",
      "Predicted     0      1    All\n",
      "True                         \n",
      "0          1360   3149   4509\n",
      "1          1925   9070  10995\n",
      "All        3285  12219  15504\n"
     ]
    }
   ],
   "source": [
    "print('Confusion Matrix - Testing Dataset')\n",
    "print(pd.crosstab(y_test, rf_clf.predict(important_test_features), rownames=['True'], colnames=['Predicted'], margins=True))"
   ]
  },
  {
   "cell_type": "code",
   "execution_count": 126,
   "metadata": {},
   "outputs": [
    {
     "name": "stdout",
     "output_type": "stream",
     "text": [
      "TNR: 0.3016189842537148\n",
      "FPR: 0.6983810157462852\n",
      "FNR: 0.17507958162801274\n",
      "TPR: 0.8249204183719873\n",
      "Precision: 0.7422866028316556\n",
      "Recall: 0.8249204183719873\n",
      "F1 Score: 0.7814250021538727\n"
     ]
    }
   ],
   "source": [
    "confusion_matrix_metrics(TN=1360, FP=3149, FN=1925, TP=9070, P=10995, N=4509)"
   ]
  },
  {
   "cell_type": "markdown",
   "metadata": {},
   "source": [
    "## Support Vector Machine\n",
    "One of the assumptions with svm is that the data needs to be scaled"
   ]
  },
  {
   "cell_type": "code",
   "execution_count": 2,
   "metadata": {},
   "outputs": [],
   "source": [
    "svm = SVC(random_state=19, C=1.0, kernel=\"rbf\")"
   ]
  },
  {
   "cell_type": "code",
   "execution_count": 3,
   "metadata": {},
   "outputs": [
    {
     "data": {
      "text/plain": [
       "SVC(C=1.0, break_ties=False, cache_size=200, class_weight=None, coef0=0.0,\n",
       "    decision_function_shape='ovr', degree=3, gamma='scale', kernel='rbf',\n",
       "    max_iter=-1, probability=False, random_state=19, shrinking=True, tol=0.001,\n",
       "    verbose=False)"
      ]
     },
     "execution_count": 3,
     "metadata": {},
     "output_type": "execute_result"
    }
   ],
   "source": [
    "svm.fit(X_train_rescaled, y_train_new)"
   ]
  },
  {
   "cell_type": "code",
   "execution_count": 5,
   "metadata": {},
   "outputs": [
    {
     "data": {
      "text/plain": [
       "0.7625257767001292"
      ]
     },
     "execution_count": 5,
     "metadata": {},
     "output_type": "execute_result"
    }
   ],
   "source": [
    "svm.score(X_train_rescaled, y_train_new)"
   ]
  },
  {
   "cell_type": "code",
   "execution_count": 32,
   "metadata": {},
   "outputs": [
    {
     "data": {
      "text/plain": [
       "0.709171826625387"
      ]
     },
     "execution_count": 32,
     "metadata": {},
     "output_type": "execute_result"
    }
   ],
   "source": [
    "svm.score(X_test, y_test)"
   ]
  },
  {
   "cell_type": "markdown",
   "metadata": {},
   "source": [
    "### Confusion Matrix: SVM"
   ]
  },
  {
   "cell_type": "code",
   "execution_count": 6,
   "metadata": {},
   "outputs": [
    {
     "name": "stdout",
     "output_type": "stream",
     "text": [
      "Confusion Matrix - Training Dataset\n",
      "Predicted      0      1    All\n",
      "True                          \n",
      "0          27356  16773  44129\n",
      "1           4186  39943  44129\n",
      "All        31542  56716  88258\n"
     ]
    }
   ],
   "source": [
    "# Confusion Matrix\n",
    "print('Confusion Matrix - Training Dataset')\n",
    "print(pd.crosstab(y_train_new, svm.predict(X_train_rescaled), rownames=['True'], colnames=['Predicted'], margins=True))"
   ]
  },
  {
   "cell_type": "code",
   "execution_count": 8,
   "metadata": {},
   "outputs": [
    {
     "name": "stdout",
     "output_type": "stream",
     "text": [
      "TNR: 0.619909809875592\n",
      "FPR: 0.380090190124408\n",
      "FNR: 0.09485825647533368\n",
      "TPR: 0.9051417435246664\n",
      "Precision: 0.704263347203611\n",
      "Recall: 0.9051417435246664\n",
      "F1 Score: 0.7921661956467847\n"
     ]
    }
   ],
   "source": [
    "confusion_matrix_metrics(TN=27356, FP=16773, FN=4186, TP=39943, P=44129, N=44129)"
   ]
  },
  {
   "cell_type": "code",
   "execution_count": 16,
   "metadata": {},
   "outputs": [
    {
     "name": "stdout",
     "output_type": "stream",
     "text": [
      "Confusion Matrix - Testing Dataset\n",
      "Predicted      1    All\n",
      "True                   \n",
      "0           4509   4509\n",
      "1          10995  10995\n",
      "All        15504  15504\n"
     ]
    }
   ],
   "source": [
    "print('Confusion Matrix - Testing Dataset')\n",
    "print(pd.crosstab(y_test, svm.predict(X_test), rownames=['True'], colnames=['Predicted'], margins=True))"
   ]
  },
  {
   "cell_type": "markdown",
   "metadata": {},
   "source": [
    "### AUC ROC"
   ]
  },
  {
   "cell_type": "code",
   "execution_count": 34,
   "metadata": {},
   "outputs": [
    {
     "data": {
      "text/plain": [
       "0.7625257767001291"
      ]
     },
     "execution_count": 34,
     "metadata": {},
     "output_type": "execute_result"
    }
   ],
   "source": [
    "roc_auc_score(y_train_new, svm.predict(X_train_rescaled))"
   ]
  },
  {
   "cell_type": "code",
   "execution_count": 35,
   "metadata": {},
   "outputs": [
    {
     "data": {
      "text/plain": [
       "0.5"
      ]
     },
     "execution_count": 35,
     "metadata": {},
     "output_type": "execute_result"
    }
   ],
   "source": [
    "roc_auc_score(y_test, svm.predict(X_test))"
   ]
  },
  {
   "cell_type": "markdown",
   "metadata": {},
   "source": [
    "## K-Nearest Neighbors"
   ]
  },
  {
   "cell_type": "code",
   "execution_count": 36,
   "metadata": {},
   "outputs": [],
   "source": [
    "# Instantiating KNN\n",
    "knn_clf = KNeighborsClassifier()"
   ]
  },
  {
   "cell_type": "code",
   "execution_count": 37,
   "metadata": {},
   "outputs": [],
   "source": [
    "# Grid Search\n",
    "param_knn = {\"n_neighbors\": [5, 7, 9, 11]}\n",
    "grid_knn = GridSearchCV(knn_clf, param_grid=param_knn)"
   ]
  },
  {
   "cell_type": "code",
   "execution_count": 38,
   "metadata": {},
   "outputs": [
    {
     "data": {
      "text/plain": [
       "GridSearchCV(cv=None, error_score=nan,\n",
       "             estimator=KNeighborsClassifier(algorithm='auto', leaf_size=30,\n",
       "                                            metric='minkowski',\n",
       "                                            metric_params=None, n_jobs=None,\n",
       "                                            n_neighbors=5, p=2,\n",
       "                                            weights='uniform'),\n",
       "             iid='deprecated', n_jobs=None,\n",
       "             param_grid={'n_neighbors': [5, 7, 9, 11]}, pre_dispatch='2*n_jobs',\n",
       "             refit=True, return_train_score=False, scoring=None, verbose=0)"
      ]
     },
     "execution_count": 38,
     "metadata": {},
     "output_type": "execute_result"
    }
   ],
   "source": [
    "# Fitting model\n",
    "grid_knn.fit(X_train_rescaled, y_train_new)"
   ]
  },
  {
   "cell_type": "code",
   "execution_count": 39,
   "metadata": {},
   "outputs": [
    {
     "data": {
      "text/plain": [
       "{'n_neighbors': 11}"
      ]
     },
     "execution_count": 39,
     "metadata": {},
     "output_type": "execute_result"
    }
   ],
   "source": [
    "grid_knn.best_params_"
   ]
  },
  {
   "cell_type": "code",
   "execution_count": 41,
   "metadata": {},
   "outputs": [
    {
     "data": {
      "text/plain": [
       "{'mean_fit_time': array([2.01058431, 2.05288095, 2.00450478, 2.02775569]),\n",
       " 'std_fit_time': array([0.17879994, 0.19099507, 0.18572043, 0.1939131 ]),\n",
       " 'mean_score_time': array([28.09950471, 31.72052593, 32.59000802, 35.59207487]),\n",
       " 'std_score_time': array([1.62672953, 1.43080425, 1.56008538, 2.98341278]),\n",
       " 'param_n_neighbors': masked_array(data=[5, 7, 9, 11],\n",
       "              mask=[False, False, False, False],\n",
       "        fill_value='?',\n",
       "             dtype=object),\n",
       " 'params': [{'n_neighbors': 5},\n",
       "  {'n_neighbors': 7},\n",
       "  {'n_neighbors': 9},\n",
       "  {'n_neighbors': 11}],\n",
       " 'split0_test_score': array([0.53076139, 0.52900521, 0.524983  , 0.52215046]),\n",
       " 'split1_test_score': array([0.52804215, 0.52900521, 0.52747564, 0.52554951]),\n",
       " 'split2_test_score': array([0.83916837, 0.85287786, 0.86103558, 0.86777702]),\n",
       " 'split3_test_score': array([0.84935698, 0.86063113, 0.86912923, 0.8792703 ]),\n",
       " 'split4_test_score': array([0.84748739, 0.8560988 , 0.86488018, 0.87145204]),\n",
       " 'mean_test_score': array([0.71896325, 0.72552364, 0.72950073, 0.73323987]),\n",
       " 'std_test_score': array([0.1548167 , 0.16047554, 0.16599203, 0.1710098 ]),\n",
       " 'rank_test_score': array([4, 3, 2, 1], dtype=int32)}"
      ]
     },
     "execution_count": 41,
     "metadata": {},
     "output_type": "execute_result"
    }
   ],
   "source": [
    "grid_knn.cv_results_"
   ]
  },
  {
   "cell_type": "code",
   "execution_count": 42,
   "metadata": {},
   "outputs": [
    {
     "data": {
      "text/plain": [
       "0.7889823018876476"
      ]
     },
     "execution_count": 42,
     "metadata": {},
     "output_type": "execute_result"
    }
   ],
   "source": [
    "grid_knn.score(X_train_rescaled, y_train_new)"
   ]
  },
  {
   "cell_type": "code",
   "execution_count": 43,
   "metadata": {},
   "outputs": [
    {
     "data": {
      "text/plain": [
       "0.709171826625387"
      ]
     },
     "execution_count": 43,
     "metadata": {},
     "output_type": "execute_result"
    }
   ],
   "source": [
    "grid_knn.score(X_test, y_test)"
   ]
  },
  {
   "cell_type": "markdown",
   "metadata": {},
   "source": [
    "### Elbow Chart"
   ]
  },
  {
   "cell_type": "code",
   "execution_count": 59,
   "metadata": {},
   "outputs": [
    {
     "name": "stdout",
     "output_type": "stream",
     "text": [
      "Minimum error:- 0.29082817337461303 at K = 0\n"
     ]
    },
    {
     "data": {
      "image/png": "[encoded data removed]",
      "text/plain": [
       "<Figure size 720x648 with 1 Axes>"
      ]
     },
     "metadata": {},
     "output_type": "display_data"
    }
   ],
   "source": [
    "error_rate = []\n",
    "\n",
    "pred_y = grid_knn.predict(X_test)\n",
    "for i in range(1,40):\n",
    "    error_rate.append(np.mean(pred_y != y_test))\n",
    "\n",
    "plt.figure(figsize=(10,9))\n",
    "plt.plot(range(1,40), error_rate,color='blue', linestyle='dashed', \n",
    "         marker='o', markerfacecolor='red', markersize=10)\n",
    "plt.title('Error Rate vs. K Value')\n",
    "plt.xlabel('K')\n",
    "plt.ylabel('Error Rate')\n",
    "print(\"Minimum error:-\", min(error_rate),\"at K =\", error_rate.index(min(error_rate)))"
   ]
  },
  {
   "cell_type": "markdown",
   "metadata": {},
   "source": [
    "### Confustion Matrix"
   ]
  },
  {
   "cell_type": "code",
   "execution_count": 60,
   "metadata": {},
   "outputs": [
    {
     "name": "stdout",
     "output_type": "stream",
     "text": [
      "Confusion Matrix - Training Dataset\n",
      "Predicted      0      1    All\n",
      "True                          \n",
      "0          30349  13780  44129\n",
      "1           4844  39285  44129\n",
      "All        35193  53065  88258\n"
     ]
    }
   ],
   "source": [
    "# Confusion Matrix\n",
    "print('Confusion Matrix - Training Dataset')\n",
    "print(pd.crosstab(y_train_new, grid_knn.predict(X_train_rescaled), rownames=['True'], colnames=['Predicted'], margins=True))"
   ]
  },
  {
   "cell_type": "code",
   "execution_count": 61,
   "metadata": {},
   "outputs": [
    {
     "name": "stdout",
     "output_type": "stream",
     "text": [
      "TNR: 0.6877336898638083\n",
      "FPR: 0.3122663101361916\n",
      "FNR: 0.10976908608851323\n",
      "TPR: 0.8902309139114868\n",
      "Precision: 0.7403184773391124\n",
      "Recall: 0.8902309139114868\n",
      "F1 Score: 0.8083832335329342\n"
     ]
    }
   ],
   "source": [
    "confusion_matrix_metrics(TN=30349, FP=13780, FN=4844, TP=39285, P=44129, N=44129)"
   ]
  },
  {
   "cell_type": "code",
   "execution_count": 62,
   "metadata": {},
   "outputs": [
    {
     "name": "stdout",
     "output_type": "stream",
     "text": [
      "Confusion Matrix - Testing Dataset\n",
      "Predicted      1    All\n",
      "True                   \n",
      "0           4509   4509\n",
      "1          10995  10995\n",
      "All        15504  15504\n"
     ]
    }
   ],
   "source": [
    "# Confusion Matrix\n",
    "print('Confusion Matrix - Testing Dataset')\n",
    "print(pd.crosstab(y_test, grid_knn.predict(X_test), rownames=['True'], colnames=['Predicted'], margins=True))"
   ]
  },
  {
   "cell_type": "markdown",
   "metadata": {},
   "source": [
    "## KNN with PCA"
   ]
  },
  {
   "cell_type": "code",
   "execution_count": 63,
   "metadata": {},
   "outputs": [
    {
     "data": {
      "text/plain": [
       "GridSearchCV(cv=None, error_score=nan,\n",
       "             estimator=KNeighborsClassifier(algorithm='auto', leaf_size=30,\n",
       "                                            metric='minkowski',\n",
       "                                            metric_params=None, n_jobs=None,\n",
       "                                            n_neighbors=5, p=2,\n",
       "                                            weights='uniform'),\n",
       "             iid='deprecated', n_jobs=None,\n",
       "             param_grid={'n_neighbors': [5, 7, 9, 11]}, pre_dispatch='2*n_jobs',\n",
       "             refit=True, return_train_score=False, scoring=None, verbose=0)"
      ]
     },
     "execution_count": 63,
     "metadata": {},
     "output_type": "execute_result"
    }
   ],
   "source": [
    "grid_knn.fit(X_train_pca, y_train_new)"
   ]
  },
  {
   "cell_type": "code",
   "execution_count": 64,
   "metadata": {},
   "outputs": [
    {
     "data": {
      "text/plain": [
       "{'n_neighbors': 11}"
      ]
     },
     "execution_count": 64,
     "metadata": {},
     "output_type": "execute_result"
    }
   ],
   "source": [
    "grid_knn.best_params_"
   ]
  },
  {
   "cell_type": "code",
   "execution_count": 65,
   "metadata": {},
   "outputs": [
    {
     "data": {
      "text/plain": [
       "{'mean_fit_time': array([0.14952688, 0.13871632, 0.13538361, 0.19265618]),\n",
       " 'std_fit_time': array([0.01537119, 0.00655974, 0.00164374, 0.047169  ]),\n",
       " 'mean_score_time': array([1.94629464, 2.20311556, 2.38360543, 3.31726093]),\n",
       " 'std_score_time': array([0.1364856 , 0.16329157, 0.17535226, 0.58366196]),\n",
       " 'param_n_neighbors': masked_array(data=[5, 7, 9, 11],\n",
       "              mask=[False, False, False, False],\n",
       "        fill_value='?',\n",
       "             dtype=object),\n",
       " 'params': [{'n_neighbors': 5},\n",
       "  {'n_neighbors': 7},\n",
       "  {'n_neighbors': 9},\n",
       "  {'n_neighbors': 11}],\n",
       " 'split0_test_score': array([0.52753229, 0.52435985, 0.52067754, 0.52260367]),\n",
       " 'split1_test_score': array([0.52526626, 0.52605937, 0.52390664, 0.52396329]),\n",
       " 'split2_test_score': array([0.83860186, 0.84993202, 0.86029912, 0.86602085]),\n",
       " 'split3_test_score': array([0.8461277 , 0.85966801, 0.86759957, 0.8758144 ]),\n",
       " 'split4_test_score': array([0.8453912 , 0.85417257, 0.86159424, 0.86912923]),\n",
       " 'mean_test_score': array([0.71658386, 0.72283836, 0.72681542, 0.73150629]),\n",
       " 'std_test_score': array([0.15530888, 0.16139363, 0.16701389, 0.17004321]),\n",
       " 'rank_test_score': array([4, 3, 2, 1], dtype=int32)}"
      ]
     },
     "execution_count": 65,
     "metadata": {},
     "output_type": "execute_result"
    }
   ],
   "source": [
    "grid_knn.cv_results_"
   ]
  },
  {
   "cell_type": "code",
   "execution_count": 67,
   "metadata": {},
   "outputs": [
    {
     "data": {
      "text/plain": [
       "0.7860703845543747"
      ]
     },
     "execution_count": 67,
     "metadata": {},
     "output_type": "execute_result"
    }
   ],
   "source": [
    "grid_knn.score(X_train_pca, y_train_new)"
   ]
  },
  {
   "cell_type": "markdown",
   "metadata": {},
   "source": [
    "### Confusion Matrix"
   ]
  },
  {
   "cell_type": "code",
   "execution_count": 71,
   "metadata": {},
   "outputs": [
    {
     "name": "stdout",
     "output_type": "stream",
     "text": [
      "Confusion Matrix - Training Dataset\n",
      "Predicted      0      1    All\n",
      "True                          \n",
      "0          30147  13982  44129\n",
      "1           4899  39230  44129\n",
      "All        35046  53212  88258\n"
     ]
    }
   ],
   "source": [
    "# Confusion Matrix\n",
    "print('Confusion Matrix - Training Dataset')\n",
    "print(pd.crosstab(y_train_new, grid_knn.predict(X_train_pca), rownames=['True'], colnames=['Predicted'], margins=True))"
   ]
  },
  {
   "cell_type": "code",
   "execution_count": 72,
   "metadata": {},
   "outputs": [
    {
     "name": "stdout",
     "output_type": "stream",
     "text": [
      "TNR: 0.6831562011375739\n",
      "FPR: 0.3168437988624261\n",
      "FNR: 0.11101543202882458\n",
      "TPR: 0.8889845679711754\n",
      "Precision: 0.7372397203638277\n",
      "Recall: 0.8889845679711754\n",
      "F1 Score: 0.8060324015574116\n"
     ]
    }
   ],
   "source": [
    "confusion_matrix_metrics(TN=30147, FP=13982, FN=4899, TP=39230, P=44129, N=44129)"
   ]
  },
  {
   "cell_type": "code",
   "execution_count": 95,
   "metadata": {},
   "outputs": [
    {
     "name": "stdout",
     "output_type": "stream",
     "text": [
      "Confusion Matrix - Testing Dataset\n",
      "Predicted     0     1    All\n",
      "True                        \n",
      "0          2446  2063   4509\n",
      "1          6221  4774  10995\n",
      "All        8667  6837  15504\n"
     ]
    }
   ],
   "source": [
    "# Confusion Matrix\n",
    "print('Confusion Matrix - Testing Dataset')\n",
    "print(pd.crosstab(y_test, grid_knn.predict(X_test.drop(columns=['Purpose_Buy a Car', 'Purpose_Debt Consolidation', 'Purpose_Educational Expenses', 'Purpose_Home Improvements', 'Purpose_Medical Bills', 'Purpose_Other', 'Purpose_Take a Trip', 'Purpose_major_purchase', 'Purpose_moving', 'Purpose_other', 'Purpose_renewable_energy', 'Purpose_small_business', 'Purpose_vacation', 'Purpose_wedding'])), rownames=['True'], colnames=['Predicted'], margins=True))"
   ]
  },
  {
   "cell_type": "code",
   "execution_count": 96,
   "metadata": {},
   "outputs": [
    {
     "name": "stdout",
     "output_type": "stream",
     "text": [
      "TNR: 0.5424706143269018\n",
      "FPR: 0.45752938567309825\n",
      "FNR: 0.5658026375625285\n",
      "TPR: 0.4341973624374716\n",
      "Precision: 0.6982594705280094\n",
      "Recall: 0.4341973624374716\n",
      "F1 Score: 0.5354419021982952\n"
     ]
    }
   ],
   "source": [
    "confusion_matrix_metrics(TN=2446, FP=2063, FN=6221, TP=4774, P=10995, N=4509)"
   ]
  },
  {
   "cell_type": "markdown",
   "metadata": {},
   "source": [
    "# Boosting"
   ]
  },
  {
   "cell_type": "markdown",
   "metadata": {},
   "source": [
    "### Gradient Boosting"
   ]
  },
  {
   "cell_type": "code",
   "execution_count": 3,
   "metadata": {},
   "outputs": [],
   "source": [
    "gb_clf = GradientBoostingClassifier()"
   ]
  },
  {
   "cell_type": "code",
   "execution_count": 4,
   "metadata": {},
   "outputs": [],
   "source": [
    "# Grid Search\n",
    "param_gb = {\"n_estimators\":[100, 300, 500], \"max_depth\":[3, 5]}\n",
    "grid_gb = GridSearchCV(gb_clf, param_grid=param_gb)"
   ]
  },
  {
   "cell_type": "code",
   "execution_count": 5,
   "metadata": {},
   "outputs": [
    {
     "data": {
      "text/plain": [
       "GridSearchCV(cv=None, error_score=nan,\n",
       "             estimator=GradientBoostingClassifier(ccp_alpha=0.0,\n",
       "                                                  criterion='friedman_mse',\n",
       "                                                  init=None, learning_rate=0.1,\n",
       "                                                  loss='deviance', max_depth=3,\n",
       "                                                  max_features=None,\n",
       "                                                  max_leaf_nodes=None,\n",
       "                                                  min_impurity_decrease=0.0,\n",
       "                                                  min_impurity_split=None,\n",
       "                                                  min_samples_leaf=1,\n",
       "                                                  min_samples_split=2,\n",
       "                                                  min_weight_fraction_leaf=0.0,\n",
       "                                                  n_estimators=100,\n",
       "                                                  n_iter_no_change=None,\n",
       "                                                  presort='deprecated',\n",
       "                                                  random_state=None,\n",
       "                                                  subsample=1.0, tol=0.0001,\n",
       "                                                  validation_fraction=0.1,\n",
       "                                                  verbose=0, warm_start=False),\n",
       "             iid='deprecated', n_jobs=None,\n",
       "             param_grid={'max_depth': [3, 5], 'n_estimators': [100, 300, 500]},\n",
       "             pre_dispatch='2*n_jobs', refit=True, return_train_score=False,\n",
       "             scoring=None, verbose=0)"
      ]
     },
     "execution_count": 5,
     "metadata": {},
     "output_type": "execute_result"
    }
   ],
   "source": [
    "grid_gb.fit(X_train_new, y_train_new)"
   ]
  },
  {
   "cell_type": "code",
   "execution_count": 6,
   "metadata": {},
   "outputs": [
    {
     "data": {
      "text/plain": [
       "{'max_depth': 5, 'n_estimators': 500}"
      ]
     },
     "execution_count": 6,
     "metadata": {},
     "output_type": "execute_result"
    }
   ],
   "source": [
    "grid_gb.best_params_"
   ]
  },
  {
   "cell_type": "code",
   "execution_count": 7,
   "metadata": {},
   "outputs": [
    {
     "data": {
      "text/plain": [
       "{'mean_fit_time': array([ 15.48914456,  48.84513602,  77.48324642,  28.60990953,\n",
       "         94.86413631, 150.24117289]),\n",
       " 'std_fit_time': array([0.35630827, 1.49228696, 4.51370533, 2.5523888 , 9.84424728,\n",
       "        5.75484751]),\n",
       " 'mean_score_time': array([0.02266302, 0.05571985, 0.08994718, 0.04300313, 0.09537482,\n",
       "        0.1424664 ]),\n",
       " 'std_score_time': array([0.00112387, 0.00233387, 0.01770104, 0.0074452 , 0.01120147,\n",
       "        0.00711489]),\n",
       " 'param_max_depth': masked_array(data=[3, 3, 3, 5, 5, 5],\n",
       "              mask=[False, False, False, False, False, False],\n",
       "        fill_value='?',\n",
       "             dtype=object),\n",
       " 'param_n_estimators': masked_array(data=[100, 300, 500, 100, 300, 500],\n",
       "              mask=[False, False, False, False, False, False],\n",
       "        fill_value='?',\n",
       "             dtype=object),\n",
       " 'params': [{'max_depth': 3, 'n_estimators': 100},\n",
       "  {'max_depth': 3, 'n_estimators': 300},\n",
       "  {'max_depth': 3, 'n_estimators': 500},\n",
       "  {'max_depth': 5, 'n_estimators': 100},\n",
       "  {'max_depth': 5, 'n_estimators': 300},\n",
       "  {'max_depth': 5, 'n_estimators': 500}],\n",
       " 'split0_test_score': array([0.5243032 , 0.52288692, 0.52039429, 0.52373669, 0.52186721,\n",
       "        0.52334013]),\n",
       " 'split1_test_score': array([0.521414  , 0.52164061, 0.52028099, 0.52294358, 0.52028099,\n",
       "        0.52147065]),\n",
       " 'split2_test_score': array([0.89202357, 0.90777249, 0.92187854, 0.91071833, 0.9228416 ,\n",
       "        0.92408792]),\n",
       " 'split3_test_score': array([0.90289502, 0.92351708, 0.93603762, 0.91938134, 0.93773724,\n",
       "        0.93756728]),\n",
       " 'split4_test_score': array([0.89371707, 0.91501898, 0.9265764 , 0.91201632, 0.92986233,\n",
       "        0.93048552]),\n",
       " 'mean_test_score': array([0.74687057, 0.75816722, 0.76503357, 0.75775925, 0.76651787,\n",
       "        0.7673903 ]),\n",
       " 'std_test_score': array([0.1829447 , 0.19267924, 0.19984545, 0.19142538, 0.20046004,\n",
       "        0.20007566]),\n",
       " 'rank_test_score': array([6, 4, 3, 5, 2, 1], dtype=int32)}"
      ]
     },
     "execution_count": 7,
     "metadata": {},
     "output_type": "execute_result"
    }
   ],
   "source": [
    "grid_gb.cv_results_"
   ]
  },
  {
   "cell_type": "code",
   "execution_count": 20,
   "metadata": {},
   "outputs": [
    {
     "name": "stdout",
     "output_type": "stream",
     "text": [
      "0.827811643137166\n",
      "0.7020768833849329\n"
     ]
    }
   ],
   "source": [
    "print(grid_gb.score(X_train_new, y_train_new))\n",
    "print(grid_gb.score(X_test, y_test))"
   ]
  },
  {
   "cell_type": "markdown",
   "metadata": {},
   "source": [
    "### Confusion Matrix"
   ]
  },
  {
   "cell_type": "code",
   "execution_count": 14,
   "metadata": {},
   "outputs": [
    {
     "name": "stdout",
     "output_type": "stream",
     "text": [
      "Confusion Matrix - Training Dataset\n",
      "Predicted      0      1    All\n",
      "True                          \n",
      "0          31041  13088  44129\n",
      "1           2109  42020  44129\n",
      "All        33150  55108  88258\n"
     ]
    }
   ],
   "source": [
    "# Confusion Matrix\n",
    "print('Confusion Matrix - Training Dataset')\n",
    "print(pd.crosstab(y_train_new, grid_gb.predict(X_train_new), rownames=['True'], colnames=['Predicted'], margins=True))"
   ]
  },
  {
   "cell_type": "code",
   "execution_count": 16,
   "metadata": {},
   "outputs": [
    {
     "name": "stdout",
     "output_type": "stream",
     "text": [
      "TNR: 0.7034149878764532\n",
      "FPR: 0.2965850121235469\n",
      "FNR: 0.04779170160212105\n",
      "TPR: 0.9522082983978789\n",
      "Precision: 0.7625027219278507\n",
      "Recall: 0.9522082983978789\n",
      "F1 Score: 0.846861553654383\n"
     ]
    }
   ],
   "source": [
    "confusion_matrix_metrics(TN=31041, FP=13088, FN=2109, TP=42020, P=44129, N=44129)"
   ]
  },
  {
   "cell_type": "code",
   "execution_count": 17,
   "metadata": {},
   "outputs": [
    {
     "name": "stdout",
     "output_type": "stream",
     "text": [
      "Confusion Matrix - Testing Dataset\n",
      "Predicted     0      1    All\n",
      "True                         \n",
      "0           719   3790   4509\n",
      "1           829  10166  10995\n",
      "All        1548  13956  15504\n"
     ]
    }
   ],
   "source": [
    "# Confusion Matrix\n",
    "print('Confusion Matrix - Testing Dataset')\n",
    "print(pd.crosstab(y_test, grid_gb.predict(X_test), rownames=['True'], colnames=['Predicted'], margins=True))"
   ]
  },
  {
   "cell_type": "code",
   "execution_count": 18,
   "metadata": {},
   "outputs": [
    {
     "name": "stdout",
     "output_type": "stream",
     "text": [
      "TNR: 0.15945886005766247\n",
      "FPR: 0.8405411399423376\n",
      "FNR: 0.07539790814006367\n",
      "TPR: 0.9246020918599364\n",
      "Precision: 0.7284322155345371\n",
      "Recall: 0.9246020918599364\n",
      "F1 Score: 0.8148771592320949\n"
     ]
    }
   ],
   "source": [
    "confusion_matrix_metrics(TN=719, FP=3790, FN=829, TP=10166, P=10995, N=4509)"
   ]
  },
  {
   "cell_type": "markdown",
   "metadata": {},
   "source": [
    "## Feature Importance/Selection: Gradient Boosting"
   ]
  },
  {
   "cell_type": "code",
   "execution_count": 10,
   "metadata": {},
   "outputs": [],
   "source": [
    "gb_clf = GradientBoostingClassifier(n_estimators=500, max_depth=5)"
   ]
  },
  {
   "cell_type": "code",
   "execution_count": 11,
   "metadata": {},
   "outputs": [
    {
     "data": {
      "text/plain": [
       "GradientBoostingClassifier(ccp_alpha=0.0, criterion='friedman_mse', init=None,\n",
       "                           learning_rate=0.1, loss='deviance', max_depth=5,\n",
       "                           max_features=None, max_leaf_nodes=None,\n",
       "                           min_impurity_decrease=0.0, min_impurity_split=None,\n",
       "                           min_samples_leaf=1, min_samples_split=2,\n",
       "                           min_weight_fraction_leaf=0.0, n_estimators=500,\n",
       "                           n_iter_no_change=None, presort='deprecated',\n",
       "                           random_state=None, subsample=1.0, tol=0.0001,\n",
       "                           validation_fraction=0.1, verbose=0,\n",
       "                           warm_start=False)"
      ]
     },
     "execution_count": 11,
     "metadata": {},
     "output_type": "execute_result"
    }
   ],
   "source": [
    "gb_clf.fit(X_train_new, y_train_new)"
   ]
  },
  {
   "cell_type": "code",
   "execution_count": 13,
   "metadata": {},
   "outputs": [
    {
     "name": "stdout",
     "output_type": "stream",
     "text": [
      "0.827811643137166\n",
      "0.701625386996904\n"
     ]
    }
   ],
   "source": [
    "print(gb_clf.score(X_train_new, y_train_new))\n",
    "print(gb_clf.score(X_test, y_test))"
   ]
  },
  {
   "cell_type": "code",
   "execution_count": 21,
   "metadata": {},
   "outputs": [
    {
     "data": {
      "text/plain": [
       "<BarContainer object of 40 artists>"
      ]
     },
     "execution_count": 21,
     "metadata": {},
     "output_type": "execute_result"
    },
    {
     "data": {
      "image/png": "[encoded data removed]",
      "text/plain": [
       "<Figure size 1080x720 with 1 Axes>"
      ]
     },
     "metadata": {
      "needs_background": "light"
     },
     "output_type": "display_data"
    }
   ],
   "source": [
    "# Graphing\n",
    "fig, ax = plt.subplots(figsize=(15, 10))\n",
    "ax.barh(width=gb_clf.feature_importances_, y=X_train_new.columns)"
   ]
  },
  {
   "cell_type": "markdown",
   "metadata": {},
   "source": [
    "### Conclusion\n",
    "\n",
    "Gradient Boost is a little more accurate than Random Forest"
   ]
  },
  {
   "cell_type": "code",
   "execution_count": 58,
   "metadata": {},
   "outputs": [
    {
     "name": "stdout",
     "output_type": "stream",
     "text": [
      "(array([ 1, 11, 22, 23, 24]),)\n",
      "5\n"
     ]
    }
   ],
   "source": [
    "# Selecting the top features at a cap of 0.08\n",
    "gb_important_features = np.where(gb_clf.feature_importances_ > 0.08)\n",
    "print(gb_important_features)\n",
    "print(len(gb_important_features[0]))  # Number of features that qualify"
   ]
  },
  {
   "cell_type": "code",
   "execution_count": 59,
   "metadata": {},
   "outputs": [
    {
     "data": {
      "text/plain": [
       "['Credit Score',\n",
       " 'Term_Short Term',\n",
       " 'Home Ownership_Home Mortgage',\n",
       " 'Home Ownership_Own Home',\n",
       " 'Home Ownership_Rent']"
      ]
     },
     "execution_count": 59,
     "metadata": {},
     "output_type": "execute_result"
    }
   ],
   "source": [
    "# Extracting the top feature column names\n",
    "gb_important_feature_names = [columns for columns in X_train_new.columns[gb_important_features]]\n",
    "gb_important_feature_names"
   ]
  },
  {
   "cell_type": "code",
   "execution_count": 60,
   "metadata": {},
   "outputs": [],
   "source": [
    "# Creating new training and testing data with top features\n",
    "gb_important_train_features = X_train_new[gb_important_feature_names]\n",
    "gb_important_test_features = X_test[gb_important_feature_names]"
   ]
  },
  {
   "cell_type": "code",
   "execution_count": 61,
   "metadata": {},
   "outputs": [
    {
     "data": {
      "text/plain": [
       "((88258, 5), (15504, 5))"
      ]
     },
     "execution_count": 61,
     "metadata": {},
     "output_type": "execute_result"
    }
   ],
   "source": [
    "gb_important_train_features.shape, gb_important_test_features.shape"
   ]
  },
  {
   "cell_type": "markdown",
   "metadata": {},
   "source": [
    "## Gradient Boost on Important Features"
   ]
  },
  {
   "cell_type": "code",
   "execution_count": 62,
   "metadata": {},
   "outputs": [],
   "source": [
    "param_gb = {\"n_estimators\":[100, 500, 700], \"max_depth\":[3, 7, 9]}\n",
    "\n",
    "# Grid search\n",
    "grid_gb = GridSearchCV(gb_clf, param_grid=param_gb)"
   ]
  },
  {
   "cell_type": "code",
   "execution_count": 63,
   "metadata": {},
   "outputs": [
    {
     "data": {
      "text/plain": [
       "GridSearchCV(cv=None, error_score=nan,\n",
       "             estimator=GradientBoostingClassifier(ccp_alpha=0.0,\n",
       "                                                  criterion='friedman_mse',\n",
       "                                                  init=None, learning_rate=0.1,\n",
       "                                                  loss='deviance', max_depth=5,\n",
       "                                                  max_features=None,\n",
       "                                                  max_leaf_nodes=None,\n",
       "                                                  min_impurity_decrease=0.0,\n",
       "                                                  min_impurity_split=None,\n",
       "                                                  min_samples_leaf=1,\n",
       "                                                  min_samples_split=2,\n",
       "                                                  min_weight_fraction_leaf=0.0,\n",
       "                                                  n_estimators=500,\n",
       "                                                  n_iter_no_change=None,\n",
       "                                                  presort='deprecated',\n",
       "                                                  random_state=None,\n",
       "                                                  subsample=1.0, tol=0.0001,\n",
       "                                                  validation_fraction=0.1,\n",
       "                                                  verbose=0, warm_start=False),\n",
       "             iid='deprecated', n_jobs=None,\n",
       "             param_grid={'max_depth': [3, 7, 9],\n",
       "                         'n_estimators': [100, 500, 700]},\n",
       "             pre_dispatch='2*n_jobs', refit=True, return_train_score=False,\n",
       "             scoring=None, verbose=0)"
      ]
     },
     "execution_count": 63,
     "metadata": {},
     "output_type": "execute_result"
    }
   ],
   "source": [
    "grid_gb.fit(gb_important_train_features, y_train_new)"
   ]
  },
  {
   "cell_type": "code",
   "execution_count": 64,
   "metadata": {},
   "outputs": [
    {
     "data": {
      "text/plain": [
       "{'max_depth': 7, 'n_estimators': 700}"
      ]
     },
     "execution_count": 64,
     "metadata": {},
     "output_type": "execute_result"
    }
   ],
   "source": [
    "grid_gb.best_params_"
   ]
  },
  {
   "cell_type": "code",
   "execution_count": 65,
   "metadata": {},
   "outputs": [
    {
     "data": {
      "text/plain": [
       "{'mean_fit_time': array([ 2.79419231, 14.03580494, 16.99694395,  5.17686009, 25.99817982,\n",
       "        36.23811131,  6.44363856, 32.32303977, 45.26004543]),\n",
       " 'std_fit_time': array([0.20602614, 1.87667975, 1.36823981, 0.15199638, 0.84668464,\n",
       "        1.08776247, 0.20733486, 1.31298492, 2.31705827]),\n",
       " 'mean_score_time': array([0.02551408, 0.08151135, 0.10451641, 0.04419355, 0.15742588,\n",
       "        0.20292268, 0.05652127, 0.18571458, 0.25146742]),\n",
       " 'std_score_time': array([0.00218617, 0.00858819, 0.00208383, 0.00350885, 0.01485702,\n",
       "        0.00760824, 0.00394456, 0.00525281, 0.00425683]),\n",
       " 'param_max_depth': masked_array(data=[3, 3, 3, 7, 7, 7, 9, 9, 9],\n",
       "              mask=[False, False, False, False, False, False, False, False,\n",
       "                    False],\n",
       "        fill_value='?',\n",
       "             dtype=object),\n",
       " 'param_n_estimators': masked_array(data=[100, 500, 700, 100, 500, 700, 100, 500, 700],\n",
       "              mask=[False, False, False, False, False, False, False, False,\n",
       "                    False],\n",
       "        fill_value='?',\n",
       "             dtype=object),\n",
       " 'params': [{'max_depth': 3, 'n_estimators': 100},\n",
       "  {'max_depth': 3, 'n_estimators': 500},\n",
       "  {'max_depth': 3, 'n_estimators': 700},\n",
       "  {'max_depth': 7, 'n_estimators': 100},\n",
       "  {'max_depth': 7, 'n_estimators': 500},\n",
       "  {'max_depth': 7, 'n_estimators': 700},\n",
       "  {'max_depth': 9, 'n_estimators': 100},\n",
       "  {'max_depth': 9, 'n_estimators': 500},\n",
       "  {'max_depth': 9, 'n_estimators': 700}],\n",
       " 'split0_test_score': array([0.54311126, 0.5317811 , 0.52877861, 0.53823929, 0.52192386,\n",
       "        0.5211874 , 0.52707908, 0.52135735, 0.5210741 ]),\n",
       " 'split1_test_score': array([0.54452753, 0.53064809, 0.53302742, 0.53636982, 0.52373669,\n",
       "        0.52220712, 0.53359393, 0.52181056, 0.52135735]),\n",
       " 'split2_test_score': array([0.83888511, 0.890494  , 0.90057784, 0.88743485, 0.91015182,\n",
       "        0.91094494, 0.89610242, 0.91128484, 0.91117154]),\n",
       " 'split3_test_score': array([0.84811059, 0.90278171, 0.90720073, 0.90436802, 0.91790833,\n",
       "        0.92017449, 0.90890035, 0.91977792, 0.92079769]),\n",
       " 'split4_test_score': array([0.84408815, 0.90482126, 0.90997677, 0.90091213, 0.92153419,\n",
       "        0.92198742, 0.91076993, 0.9216475 , 0.92136423]),\n",
       " 'mean_test_score': array([0.72374453, 0.75210523, 0.75591227, 0.75346482, 0.75905098,\n",
       "        0.75930027, 0.75528914, 0.75917563, 0.75915298]),\n",
       " 'std_test_score': array([0.14693806, 0.18042341, 0.18374959, 0.1765858 , 0.19290931,\n",
       "        0.19403847, 0.183754  , 0.19402429, 0.19430875]),\n",
       " 'rank_test_score': array([9, 8, 5, 7, 4, 1, 6, 2, 3], dtype=int32)}"
      ]
     },
     "execution_count": 65,
     "metadata": {},
     "output_type": "execute_result"
    }
   ],
   "source": [
    "grid_gb.cv_results_"
   ]
  },
  {
   "cell_type": "code",
   "execution_count": 66,
   "metadata": {},
   "outputs": [
    {
     "name": "stdout",
     "output_type": "stream",
     "text": [
      "0.7778784926012373\n",
      "0.6942079463364293\n"
     ]
    }
   ],
   "source": [
    "print(grid_gb.score(gb_important_train_features, y_train_new))\n",
    "print(grid_gb.score(gb_important_test_features, y_test))"
   ]
  },
  {
   "cell_type": "markdown",
   "metadata": {},
   "source": [
    "### Conclusion\n",
    "\n",
    "No signs of over or under-fitting. Will increase the number of trees in the next grid search"
   ]
  },
  {
   "cell_type": "markdown",
   "metadata": {},
   "source": [
    "### Confusion Matrix"
   ]
  },
  {
   "cell_type": "code",
   "execution_count": 67,
   "metadata": {},
   "outputs": [
    {
     "name": "stdout",
     "output_type": "stream",
     "text": [
      "Confusion Matrix - Training Dataset\n",
      "Predicted      0      1    All\n",
      "True                          \n",
      "0          27365  16764  44129\n",
      "1           2840  41289  44129\n",
      "All        30205  58053  88258\n"
     ]
    }
   ],
   "source": [
    "# Confusion Matrix\n",
    "print('Confusion Matrix - Training Dataset')\n",
    "print(pd.crosstab(y_train_new, grid_gb.predict(gb_important_train_features), rownames=['True'], colnames=['Predicted'], margins=True))"
   ]
  },
  {
   "cell_type": "code",
   "execution_count": 68,
   "metadata": {},
   "outputs": [
    {
     "name": "stdout",
     "output_type": "stream",
     "text": [
      "TNR: 0.6201137573930975\n",
      "FPR: 0.3798862426069025\n",
      "FNR: 0.06435677219062294\n",
      "TPR: 0.935643227809377\n",
      "Precision: 0.7112293938297762\n",
      "Recall: 0.935643227809377\n",
      "F1 Score: 0.808146248850091\n"
     ]
    }
   ],
   "source": [
    "confusion_matrix_metrics(TN=27365, FP=16764, FN=2840, TP=41289, P=44129, N=44129)"
   ]
  },
  {
   "cell_type": "code",
   "execution_count": 69,
   "metadata": {},
   "outputs": [
    {
     "name": "stdout",
     "output_type": "stream",
     "text": [
      "Confusion Matrix - Testing Dataset\n",
      "Predicted     0      1    All\n",
      "True                         \n",
      "0           593   3916   4509\n",
      "1           825  10170  10995\n",
      "All        1418  14086  15504\n"
     ]
    }
   ],
   "source": [
    "# Confusion Matrix\n",
    "print('Confusion Matrix - Testing Dataset')\n",
    "print(pd.crosstab(y_test, grid_gb.predict(gb_important_test_features), rownames=['True'], colnames=['Predicted'], margins=True))"
   ]
  },
  {
   "cell_type": "code",
   "execution_count": 70,
   "metadata": {},
   "outputs": [
    {
     "name": "stdout",
     "output_type": "stream",
     "text": [
      "TNR: 0.13151474828121534\n",
      "FPR: 0.8684852517187847\n",
      "FNR: 0.07503410641200546\n",
      "TPR: 0.9249658935879945\n",
      "Precision: 0.7219934686923186\n",
      "Recall: 0.9249658935879945\n",
      "F1 Score: 0.8109724492643834\n"
     ]
    }
   ],
   "source": [
    "confusion_matrix_metrics(TN=593, FP=3916, FN=825, TP=10170, P=10995, N=4509)"
   ]
  },
  {
   "cell_type": "markdown",
   "metadata": {},
   "source": [
    "## New Gradient Boosting GridSearch"
   ]
  },
  {
   "cell_type": "code",
   "execution_count": 71,
   "metadata": {},
   "outputs": [],
   "source": [
    "param_gb = {\"n_estimators\":[700, 900, 1100], \"max_depth\":[7]}\n",
    "grid_gb = GridSearchCV(gb_clf, param_grid=param_gb)"
   ]
  },
  {
   "cell_type": "code",
   "execution_count": 72,
   "metadata": {},
   "outputs": [
    {
     "data": {
      "text/plain": [
       "GridSearchCV(cv=None, error_score=nan,\n",
       "             estimator=GradientBoostingClassifier(ccp_alpha=0.0,\n",
       "                                                  criterion='friedman_mse',\n",
       "                                                  init=None, learning_rate=0.1,\n",
       "                                                  loss='deviance', max_depth=5,\n",
       "                                                  max_features=None,\n",
       "                                                  max_leaf_nodes=None,\n",
       "                                                  min_impurity_decrease=0.0,\n",
       "                                                  min_impurity_split=None,\n",
       "                                                  min_samples_leaf=1,\n",
       "                                                  min_samples_split=2,\n",
       "                                                  min_weight_fraction_leaf=0.0,\n",
       "                                                  n_estimators=500,\n",
       "                                                  n_iter_no_change=None,\n",
       "                                                  presort='deprecated',\n",
       "                                                  random_state=None,\n",
       "                                                  subsample=1.0, tol=0.0001,\n",
       "                                                  validation_fraction=0.1,\n",
       "                                                  verbose=0, warm_start=False),\n",
       "             iid='deprecated', n_jobs=None,\n",
       "             param_grid={'max_depth': [7], 'n_estimators': [700, 900, 1100]},\n",
       "             pre_dispatch='2*n_jobs', refit=True, return_train_score=False,\n",
       "             scoring=None, verbose=0)"
      ]
     },
     "execution_count": 72,
     "metadata": {},
     "output_type": "execute_result"
    }
   ],
   "source": [
    "grid_gb.fit(gb_important_train_features, y_train_new)"
   ]
  },
  {
   "cell_type": "code",
   "execution_count": 73,
   "metadata": {},
   "outputs": [
    {
     "data": {
      "text/plain": [
       "{'max_depth': 7, 'n_estimators': 900}"
      ]
     },
     "execution_count": 73,
     "metadata": {},
     "output_type": "execute_result"
    }
   ],
   "source": [
    "grid_gb.best_params_"
   ]
  },
  {
   "cell_type": "code",
   "execution_count": 74,
   "metadata": {},
   "outputs": [
    {
     "data": {
      "text/plain": [
       "{'mean_fit_time': array([31.75898452, 40.23909087, 49.40661039]),\n",
       " 'std_fit_time': array([1.64242276, 1.26650038, 1.31502636]),\n",
       " 'mean_score_time': array([0.19673767, 0.24962316, 0.30443869]),\n",
       " 'std_score_time': array([0.00205531, 0.00326642, 0.00420616]),\n",
       " 'param_max_depth': masked_array(data=[7, 7, 7],\n",
       "              mask=[False, False, False],\n",
       "        fill_value='?',\n",
       "             dtype=object),\n",
       " 'param_n_estimators': masked_array(data=[700, 900, 1100],\n",
       "              mask=[False, False, False],\n",
       "        fill_value='?',\n",
       "             dtype=object),\n",
       " 'params': [{'max_depth': 7, 'n_estimators': 700},\n",
       "  {'max_depth': 7, 'n_estimators': 900},\n",
       "  {'max_depth': 7, 'n_estimators': 1100}],\n",
       " 'split0_test_score': array([0.52113075, 0.5210741 , 0.52073419]),\n",
       " 'split1_test_score': array([0.52215046, 0.52158396, 0.52164061]),\n",
       " 'split2_test_score': array([0.91094494, 0.91128484, 0.91117154]),\n",
       " 'split3_test_score': array([0.92011784, 0.92074103, 0.92074103]),\n",
       " 'split4_test_score': array([0.92198742, 0.92227069, 0.92221404]),\n",
       " 'mean_test_score': array([0.75926628, 0.75939092, 0.75930028]),\n",
       " 'std_test_score': array([0.19405682, 0.19441322, 0.19445554]),\n",
       " 'rank_test_score': array([3, 1, 2], dtype=int32)}"
      ]
     },
     "execution_count": 74,
     "metadata": {},
     "output_type": "execute_result"
    }
   ],
   "source": [
    "grid_gb.cv_results_"
   ]
  },
  {
   "cell_type": "code",
   "execution_count": 75,
   "metadata": {},
   "outputs": [
    {
     "name": "stdout",
     "output_type": "stream",
     "text": [
      "0.7779351446894333\n",
      "0.694078947368421\n"
     ]
    }
   ],
   "source": [
    "print(grid_gb.score(gb_important_train_features, y_train_new))\n",
    "print(grid_gb.score(gb_important_test_features, y_test))"
   ]
  },
  {
   "cell_type": "code",
   "execution_count": 76,
   "metadata": {},
   "outputs": [
    {
     "name": "stdout",
     "output_type": "stream",
     "text": [
      "Confusion Matrix - Training Dataset\n",
      "Predicted      0      1    All\n",
      "True                          \n",
      "0          27362  16767  44129\n",
      "1           2832  41297  44129\n",
      "All        30194  58064  88258\n"
     ]
    }
   ],
   "source": [
    "# Confusion Matrix\n",
    "print('Confusion Matrix - Training Dataset')\n",
    "print(pd.crosstab(y_train_new, grid_gb.predict(gb_important_train_features), rownames=['True'], colnames=['Predicted'], margins=True))"
   ]
  },
  {
   "cell_type": "code",
   "execution_count": 80,
   "metadata": {},
   "outputs": [
    {
     "name": "stdout",
     "output_type": "stream",
     "text": [
      "TNR: 0.6200457748872623\n",
      "FPR: 0.37995422511273763\n",
      "FNR: 0.06417548550839584\n",
      "TPR: 0.9358245144916042\n",
      "Precision: 0.7112324331771838\n",
      "Recall: 0.9358245144916042\n",
      "F1 Score: 0.8082158269157379\n"
     ]
    }
   ],
   "source": [
    "confusion_matrix_metrics(TN=27362, FP=16767, FN=2832, TP=41297, P=44129, N=44129)"
   ]
  },
  {
   "cell_type": "code",
   "execution_count": 79,
   "metadata": {},
   "outputs": [
    {
     "name": "stdout",
     "output_type": "stream",
     "text": [
      "Confusion Matrix - Testing Dataset\n",
      "Predicted     0      1    All\n",
      "True                         \n",
      "0           589   3920   4509\n",
      "1           823  10172  10995\n",
      "All        1412  14092  15504\n"
     ]
    }
   ],
   "source": [
    "# Confusion Matrix\n",
    "print('Confusion Matrix - Testing Dataset')\n",
    "print(pd.crosstab(y_test, grid_gb.predict(gb_important_test_features), rownames=['True'], colnames=['Predicted'], margins=True))"
   ]
  },
  {
   "cell_type": "code",
   "execution_count": 81,
   "metadata": {},
   "outputs": [
    {
     "name": "stdout",
     "output_type": "stream",
     "text": [
      "TNR: 0.1306276336216456\n",
      "FPR: 0.8693723663783544\n",
      "FNR: 0.07485220554797635\n",
      "TPR: 0.9251477944520237\n",
      "Precision: 0.7218279875106444\n",
      "Recall: 0.9251477944520237\n",
      "F1 Score: 0.81093793598278\n"
     ]
    }
   ],
   "source": [
    "confusion_matrix_metrics(TN=589, FP=3920, FN=823, TP=10172, P=10995, N=4509)"
   ]
  },
  {
   "cell_type": "markdown",
   "metadata": {},
   "source": [
    "### AUC ROC Score"
   ]
  },
  {
   "cell_type": "code",
   "execution_count": 78,
   "metadata": {},
   "outputs": [
    {
     "data": {
      "text/plain": [
       "0.5278877140368347"
      ]
     },
     "execution_count": 78,
     "metadata": {},
     "output_type": "execute_result"
    }
   ],
   "source": [
    "roc_auc_score(y_test, grid_gb.predict(gb_important_test_features))"
   ]
  },
  {
   "cell_type": "markdown",
   "metadata": {},
   "source": [
    "## Ada Boosting"
   ]
  },
  {
   "cell_type": "code",
   "execution_count": 6,
   "metadata": {},
   "outputs": [],
   "source": [
    "# Instantiating Ada boost\n",
    "ada_clf = AdaBoostClassifier(random_state=19)"
   ]
  },
  {
   "cell_type": "code",
   "execution_count": 7,
   "metadata": {},
   "outputs": [],
   "source": [
    "# Instantiating grid search\n",
    "param_ada = {\"n_estimators\":[100, 300, 500, 700]}\n",
    "grid_ada = GridSearchCV(ada_clf, param_grid=param_ada)"
   ]
  },
  {
   "cell_type": "code",
   "execution_count": 10,
   "metadata": {},
   "outputs": [
    {
     "data": {
      "text/plain": [
       "GridSearchCV(cv=None, error_score=nan,\n",
       "             estimator=AdaBoostClassifier(algorithm='SAMME.R',\n",
       "                                          base_estimator=None,\n",
       "                                          learning_rate=1.0, n_estimators=50,\n",
       "                                          random_state=19),\n",
       "             iid='deprecated', n_jobs=None,\n",
       "             param_grid={'n_estimators': [100, 300, 500, 700]},\n",
       "             pre_dispatch='2*n_jobs', refit=True, return_train_score=False,\n",
       "             scoring=None, verbose=0)"
      ]
     },
     "execution_count": 10,
     "metadata": {},
     "output_type": "execute_result"
    }
   ],
   "source": [
    "grid_ada.fit(X_train_new, y_train_new)"
   ]
  },
  {
   "cell_type": "code",
   "execution_count": 11,
   "metadata": {},
   "outputs": [
    {
     "data": {
      "text/plain": [
       "{'n_estimators': 700}"
      ]
     },
     "execution_count": 11,
     "metadata": {},
     "output_type": "execute_result"
    }
   ],
   "source": [
    "grid_ada.best_params_"
   ]
  },
  {
   "cell_type": "code",
   "execution_count": 12,
   "metadata": {},
   "outputs": [
    {
     "data": {
      "text/plain": [
       "{'mean_fit_time': array([ 6.5810184 , 19.4340064 , 32.5276876 , 45.49231982]),\n",
       " 'std_fit_time': array([0.19875066, 0.3599889 , 0.73670578, 0.99646956]),\n",
       " 'mean_score_time': array([0.17780375, 0.52664781, 0.86097703, 1.19341679]),\n",
       " 'std_score_time': array([0.00990749, 0.02402814, 0.04705146, 0.06216003]),\n",
       " 'param_n_estimators': masked_array(data=[100, 300, 500, 700],\n",
       "              mask=[False, False, False, False],\n",
       "        fill_value='?',\n",
       "             dtype=object),\n",
       " 'params': [{'n_estimators': 100},\n",
       "  {'n_estimators': 300},\n",
       "  {'n_estimators': 500},\n",
       "  {'n_estimators': 700}],\n",
       " 'split0_test_score': array([0.5318944 , 0.52764559, 0.52747564, 0.52605937]),\n",
       " 'split1_test_score': array([0.52951507, 0.52418989, 0.52305688, 0.52220712]),\n",
       " 'split2_test_score': array([0.88460231, 0.89831181, 0.9052232 , 0.90816905]),\n",
       " 'split3_test_score': array([0.89445357, 0.90788057, 0.91292278, 0.9195513 ]),\n",
       " 'split4_test_score': array([0.89247068, 0.90470795, 0.90992012, 0.91513229]),\n",
       " 'mean_test_score': array([0.74658721, 0.75254716, 0.75571972, 0.75822382]),\n",
       " 'std_test_score': array([0.17629971, 0.18507105, 0.18818566, 0.19117249]),\n",
       " 'rank_test_score': array([4, 3, 2, 1], dtype=int32)}"
      ]
     },
     "execution_count": 12,
     "metadata": {},
     "output_type": "execute_result"
    }
   ],
   "source": [
    "grid_ada.cv_results_"
   ]
  },
  {
   "cell_type": "code",
   "execution_count": 14,
   "metadata": {},
   "outputs": [
    {
     "name": "stdout",
     "output_type": "stream",
     "text": [
      "0.7794080989825285\n",
      "0.6856940144478845\n"
     ]
    }
   ],
   "source": [
    "print(grid_ada.score(X_train_new, y_train_new))\n",
    "print(grid_ada.score(X_test, y_test))"
   ]
  },
  {
   "cell_type": "markdown",
   "metadata": {},
   "source": [
    "### Confusion Matrix"
   ]
  },
  {
   "cell_type": "code",
   "execution_count": 15,
   "metadata": {},
   "outputs": [
    {
     "name": "stdout",
     "output_type": "stream",
     "text": [
      "Confusion Matrix - Training Dataset\n",
      "Predicted      0      1    All\n",
      "True                          \n",
      "0          29619  14510  44129\n",
      "1           4959  39170  44129\n",
      "All        34578  53680  88258\n"
     ]
    }
   ],
   "source": [
    "# Confusion Matrix\n",
    "print('Confusion Matrix - Training Dataset')\n",
    "print(pd.crosstab(y_train_new, grid_ada.predict(X_train_new), rownames=['True'], colnames=['Predicted'], margins=True))"
   ]
  },
  {
   "cell_type": "code",
   "execution_count": 16,
   "metadata": {},
   "outputs": [
    {
     "name": "stdout",
     "output_type": "stream",
     "text": [
      "TNR: 0.6711912801105849\n",
      "FPR: 0.3288087198894151\n",
      "FNR: 0.11237508214552788\n",
      "TPR: 0.8876249178544721\n",
      "Precision: 0.7296944858420268\n",
      "Recall: 0.8876249178544721\n",
      "F1 Score: 0.8009487879438497\n"
     ]
    }
   ],
   "source": [
    "confusion_matrix_metrics(TN=29619, FP=14510, FN=4959, TP=39170, P=44129, N=44129)"
   ]
  },
  {
   "cell_type": "code",
   "execution_count": 17,
   "metadata": {},
   "outputs": [
    {
     "name": "stdout",
     "output_type": "stream",
     "text": [
      "Confusion Matrix - Testing Dataset\n",
      "Predicted     0      1    All\n",
      "True                         \n",
      "0           900   3609   4509\n",
      "1          1264   9731  10995\n",
      "All        2164  13340  15504\n"
     ]
    }
   ],
   "source": [
    "# Confusion Matrix\n",
    "print('Confusion Matrix - Testing Dataset')\n",
    "print(pd.crosstab(y_test, grid_ada.predict(X_test), rownames=['True'], colnames=['Predicted'], margins=True))"
   ]
  },
  {
   "cell_type": "code",
   "execution_count": 18,
   "metadata": {},
   "outputs": [
    {
     "name": "stdout",
     "output_type": "stream",
     "text": [
      "TNR: 0.1996007984031936\n",
      "FPR: 0.8003992015968064\n",
      "FNR: 0.11496134606639381\n",
      "TPR: 0.8850386539336061\n",
      "Precision: 0.7294602698650675\n",
      "Recall: 0.8850386539336061\n",
      "F1 Score: 0.7997534415450996\n"
     ]
    }
   ],
   "source": [
    "confusion_matrix_metrics(TN=900, FP=3609, FN=1264, TP=9731, P=10995, N=4509)"
   ]
  },
  {
   "cell_type": "markdown",
   "metadata": {},
   "source": [
    "## Feature Importance/Selection"
   ]
  },
  {
   "cell_type": "code",
   "execution_count": 3,
   "metadata": {},
   "outputs": [],
   "source": [
    "ada_clf = AdaBoostClassifier(random_state=20, n_estimators=700)"
   ]
  },
  {
   "cell_type": "code",
   "execution_count": 4,
   "metadata": {},
   "outputs": [
    {
     "data": {
      "text/plain": [
       "AdaBoostClassifier(algorithm='SAMME.R', base_estimator=None, learning_rate=1.0,\n",
       "                   n_estimators=700, random_state=20)"
      ]
     },
     "execution_count": 4,
     "metadata": {},
     "output_type": "execute_result"
    }
   ],
   "source": [
    "ada_clf.fit(X_train_new, y_train_new)"
   ]
  },
  {
   "cell_type": "code",
   "execution_count": 5,
   "metadata": {},
   "outputs": [
    {
     "data": {
      "text/plain": [
       "<BarContainer object of 40 artists>"
      ]
     },
     "execution_count": 5,
     "metadata": {},
     "output_type": "execute_result"
    },
    {
     "data": {
      "image/png": "[encoded data removed]",
      "text/plain": [
       "<Figure size 1080x720 with 1 Axes>"
      ]
     },
     "metadata": {
      "needs_background": "light"
     },
     "output_type": "display_data"
    }
   ],
   "source": [
    "# Graphing\n",
    "fig, ax = plt.subplots(figsize=(15, 10))\n",
    "ax.barh(width=ada_clf.feature_importances_, y=X_train_new.columns)"
   ]
  },
  {
   "cell_type": "markdown",
   "metadata": {},
   "source": [
    "## Ada Boosting with Feature Scaling"
   ]
  },
  {
   "cell_type": "code",
   "execution_count": 8,
   "metadata": {},
   "outputs": [
    {
     "data": {
      "text/plain": [
       "GridSearchCV(cv=None, error_score=nan,\n",
       "             estimator=AdaBoostClassifier(algorithm='SAMME.R',\n",
       "                                          base_estimator=None,\n",
       "                                          learning_rate=1.0, n_estimators=50,\n",
       "                                          random_state=19),\n",
       "             iid='deprecated', n_jobs=None,\n",
       "             param_grid={'n_estimators': [100, 300, 500, 700]},\n",
       "             pre_dispatch='2*n_jobs', refit=True, return_train_score=False,\n",
       "             scoring=None, verbose=0)"
      ]
     },
     "execution_count": 8,
     "metadata": {},
     "output_type": "execute_result"
    }
   ],
   "source": [
    "grid_ada.fit(X_train_rescaled, y_train_new)"
   ]
  },
  {
   "cell_type": "code",
   "execution_count": 9,
   "metadata": {},
   "outputs": [
    {
     "data": {
      "text/plain": [
       "{'n_estimators': 700}"
      ]
     },
     "execution_count": 9,
     "metadata": {},
     "output_type": "execute_result"
    }
   ],
   "source": [
    "grid_ada.best_params_"
   ]
  },
  {
   "cell_type": "code",
   "execution_count": 10,
   "metadata": {},
   "outputs": [
    {
     "data": {
      "text/plain": [
       "{'mean_fit_time': array([ 6.65840249, 22.20158892, 35.2061048 , 48.33920445]),\n",
       " 'std_fit_time': array([0.46493428, 1.08579816, 1.43638957, 2.5002579 ]),\n",
       " 'mean_score_time': array([0.1983933 , 0.75338473, 1.20300641, 1.39806676]),\n",
       " 'std_score_time': array([0.02118654, 0.05299717, 0.09543265, 0.11251009]),\n",
       " 'param_n_estimators': masked_array(data=[100, 300, 500, 700],\n",
       "              mask=[False, False, False, False],\n",
       "        fill_value='?',\n",
       "             dtype=object),\n",
       " 'params': [{'n_estimators': 100},\n",
       "  {'n_estimators': 300},\n",
       "  {'n_estimators': 500},\n",
       "  {'n_estimators': 700}],\n",
       " 'split0_test_score': array([0.52940177, 0.52611602, 0.524983  , 0.52447315]),\n",
       " 'split1_test_score': array([0.52628597, 0.52418989, 0.52384999, 0.52435985]),\n",
       " 'split2_test_score': array([0.88516882, 0.89740539, 0.90544981, 0.90805574]),\n",
       " 'split3_test_score': array([0.89683304, 0.90912696, 0.91552887, 0.91779503]),\n",
       " 'split4_test_score': array([0.8934338 , 0.90533114, 0.91195966, 0.91603875]),\n",
       " 'mean_test_score': array([0.74622468, 0.75243388, 0.75635427, 0.7581445 ]),\n",
       " 'std_test_score': array([0.17835027, 0.18561364, 0.18940431, 0.19086636]),\n",
       " 'rank_test_score': array([4, 3, 2, 1], dtype=int32)}"
      ]
     },
     "execution_count": 10,
     "metadata": {},
     "output_type": "execute_result"
    }
   ],
   "source": [
    "grid_ada.cv_results_"
   ]
  },
  {
   "cell_type": "code",
   "execution_count": 11,
   "metadata": {},
   "outputs": [
    {
     "name": "stdout",
     "output_type": "stream",
     "text": [
      "0.5000226608352784\n",
      "0.709171826625387\n"
     ]
    }
   ],
   "source": [
    "print(grid_ada.score(X_train_new, y_train_new))\n",
    "print(grid_ada.score(X_test, y_test))"
   ]
  },
  {
   "cell_type": "markdown",
   "metadata": {},
   "source": [
    "### Conclusion\n",
    "\n",
    "Feature rescaling did worse when using Ada Boosting"
   ]
  },
  {
   "cell_type": "markdown",
   "metadata": {},
   "source": [
    "# Conclusion\n",
    "\n",
    "- Majority of the models had problems classifying. \n",
    " \n",
    "- The metric that was used the most in order to make decisions with the data was F1 score.\n",
    " \n",
    "**Performances:**\n",
    "\n",
    "- Random Forest (Original)\n",
    "\n",
    "    Acc: 0.70\n",
    "    \n",
    "    AUC ROC: 0.5473384593553532\n",
    "    \n",
    "    TNR: 0.18208028387669106\n",
    "    \n",
    "    FPR: 0.8179197161233089\n",
    "    \n",
    "    FNR: 0.08740336516598454\n",
    "    \n",
    "    TPR: 0.9125966348340154\n",
    "    \n",
    "    Precision: 0.7312345139192538\n",
    "    \n",
    "    Recall: 0.9125966348340154\n",
    "    \n",
    "    F1 Score: 0.8119108306024194\n",
    "    \n",
    "- Random Forest (Feature Selection/Importance > 0.05)\n",
    "\n",
    "    ['Current Loan Amount',\n",
    "    'Credit Score',\n",
    "    'Annual Income',\n",
    "    'Monthly Debt',\n",
    "    'Number of Open Accounts',\n",
    "    'Current Credit Balance',\n",
    "    'Maximum Open Credit',\n",
    "    'Term_Short Term',\n",
    "    'Home Ownership_Home Mortgage',\n",
    "    'Home Ownership_Rent']\n",
    "     \n",
    "    Test Score: 0.6727296181630547\n",
    "    \n",
    "    OOB Score: 0.7639080876521108\n",
    "    \n",
    "    TNR: 0.3016189842537148\n",
    "    \n",
    "    FPR: 0.6983810157462852\n",
    "    \n",
    "    FNR: 0.17507958162801274\n",
    "    \n",
    "    TPR: 0.8249204183719873\n",
    "    \n",
    "    Precision: 0.7422866028316556\n",
    "    \n",
    "    Recall: 0.8249204183719873\n",
    "    \n",
    "    F1 Score: 0.7814250021538727\n",
    "    \n",
    "- KNN\n",
    "\n",
    "    TNR: 0.5424706143269018\n",
    "    \n",
    "    FPR: 0.45752938567309825\n",
    "    \n",
    "    FNR: 0.5658026375625285\n",
    "    \n",
    "    TPR: 0.4341973624374716\n",
    "    \n",
    "    Precision: 0.6982594705280094\n",
    "    \n",
    "    Recall: 0.4341973624374716\n",
    "    \n",
    "    F1 Score: 0.5354419021982952\n",
    "    \n",
    "- Gradient Boosting (Original)\n",
    "\n",
    "    Acc: 0.70\n",
    "    \n",
    "    TNR: 0.15945886005766247\n",
    "    \n",
    "    FPR: 0.8405411399423376\n",
    "    \n",
    "    FNR: 0.07539790814006367\n",
    "    \n",
    "    TPR: 0.9246020918599364\n",
    "    \n",
    "    Precision: 0.7284322155345371\n",
    "    \n",
    "    Recall: 0.9246020918599364\n",
    "    \n",
    "    F1 Score: 0.8148771592320949\n",
    "    \n",
    "- Gradient Boosting (Feature Selection/Importance > 0.08)\n",
    "\n",
    "    ['Credit Score',\n",
    "    'Term_Short Term',\n",
    "    'Home Ownership_Home Mortgage',\n",
    "    'Home Ownership_Own Home',\n",
    "    'Home Ownership_Rent']\n",
    "    \n",
    "    Acc: 0.69\n",
    "    \n",
    "    AUC ROC: 0.5278877140368347\n",
    "    \n",
    "    TNR: 0.13151474828121534\n",
    "    \n",
    "    FPR: 0.8684852517187847\n",
    "    \n",
    "    FNR: 0.07503410641200546\n",
    "    \n",
    "    TPR: 0.9249658935879945\n",
    "    \n",
    "    Precision: 0.7219934686923186\n",
    "    \n",
    "    Recall: 0.9249658935879945\n",
    "    \n",
    "    F1 Score: 0.8109724492643834\n",
    "    \n",
    "- Ada Boosting (Original)\n",
    "\n",
    "    Acc: 0.69\n",
    "    \n",
    "    TNR: 0.1996007984031936\n",
    "    \n",
    "    FPR: 0.8003992015968064\n",
    "    \n",
    "    FNR: 0.11496134606639381\n",
    "    \n",
    "    TPR: 0.8850386539336061\n",
    "    \n",
    "    Precision: 0.7294602698650675\n",
    "    \n",
    "    Recall: 0.8850386539336061\n",
    "    \n",
    "    F1 Score: 0.7997534415450996\n",
    "    \n",
    "- Ada Boosting (Feature Selection/Importance)\n",
    "\n",
    "    [Number of Credit Problems,\n",
    "    Number of Open Accounts,\n",
    "    Credit Score]\n",
    "    \n",
    "    Acc: 0.709171826625387\n",
    "    \n",
    "    - Ada Boost performed the 2nd poorest, next to KNN, because it did not classify the correct amount of feature importance strongly\n",
    "    \n",
    "### Best Model\n",
    "\n",
    "- The Best models were Random Forest and Gradient Boosting.\n",
    "\n",
    "- Random Forest chose more features than Gradient Boosting, and there were a good amount of Intersections:\n",
    "\n",
    "    Random Forest: > 0.05\n",
    "    \n",
    "    ['Current Loan Amount',\n",
    "    'Credit Score',\n",
    "    'Annual Income',\n",
    "    'Monthly Debt',\n",
    "    'Number of Open Accounts',\n",
    "    'Current Credit Balance',\n",
    "    'Maximum Open Credit',\n",
    "    'Term_Short Term',\n",
    "    'Home Ownership_Home Mortgage',\n",
    "    'Home Ownership_Rent']\n",
    "    \n",
    "    Gradient Boosting: > 0.08\n",
    "    \n",
    "    ['Credit Score',\n",
    "    'Term_Short Term',\n",
    "    'Home Ownership_Home Mortgage',\n",
    "    'Home Ownership_Own Home',\n",
    "    'Home Ownership_Rent']\n",
    "    \n",
    "    Intersection:\n",
    "    Credit Score | Term_Short Term | Home Ownership_Home Mortgage | Home Ownership_Rent\n",
    "    \n",
    "- I was able to get to a bigger threshold with Gradient Boosting than I could with Random Forest.\n",
    "\n",
    "- Gradient Boosting had a bigger gap of feature importance than the Random Forest model."
   ]
  },
  {
   "cell_type": "code",
   "execution_count": null,
   "metadata": {},
   "outputs": [],
   "source": []
  }
 ],
 "metadata": {
  "kernelspec": {
   "display_name": "Python 3",
   "language": "python",
   "name": "python3"
  },
  "language_info": {
   "codemirror_mode": {
    "name": "ipython",
    "version": 3
   },
   "file_extension": ".py",
   "mimetype": "text/x-python",
   "name": "python",
   "nbconvert_exporter": "python",
   "pygments_lexer": "ipython3",
   "version": "3.8.1"
  }
 },
 "nbformat": 4,
 "nbformat_minor": 4
}
