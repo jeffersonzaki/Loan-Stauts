{
 "cells": [
  {
   "cell_type": "markdown",
   "metadata": {},
   "source": [
    "# Imports"
   ]
  },
  {
   "cell_type": "code",
   "execution_count": 1,
   "metadata": {},
   "outputs": [
    {
     "name": "stderr",
     "output_type": "stream",
     "text": [
      "Using TensorFlow backend.\n",
      "/Library/Frameworks/Python.framework/Versions/3.8/lib/python3.8/site-packages/pandas/core/frame.py:4110: SettingWithCopyWarning: \n",
      "A value is trying to be set on a copy of a slice from a DataFrame\n",
      "\n",
      "See the caveats in the documentation: http://pandas.pydata.org/pandas-docs/stable/user_guide/indexing.html#returning-a-view-versus-a-copy\n",
      "  return super().drop(\n"
     ]
    }
   ],
   "source": [
    "# Python Scripts\n",
    "%run -i \"Scripts/scripts.py\"\n",
    "\n",
    "# Machine learning models\n",
    "from sklearn.ensemble import RandomForestClassifier\n",
    "from sklearn.svm import SVC\n",
    "\n",
    "# Pipeline\n",
    "from sklearn.pipeline import Pipeline\n",
    "\n",
    "# Gridsearch\n",
    "from sklearn.model_selection import GridSearchCV\n",
    "\n",
    "# AUC ROC CURVE\n",
    "from sklearn.metrics import roc_auc_score"
   ]
  },
  {
   "cell_type": "markdown",
   "metadata": {},
   "source": [
    "## Random Forest"
   ]
  },
  {
   "cell_type": "code",
   "execution_count": 2,
   "metadata": {},
   "outputs": [],
   "source": [
    "random_forest = RandomForestClassifier(random_state=19, oob_score=True)\n",
    "svm = SVC(random_state=19)"
   ]
  },
  {
   "cell_type": "code",
   "execution_count": 3,
   "metadata": {},
   "outputs": [],
   "source": [
    "# Random Forest grid search\n",
    "param_forest = {\"n_estimators\":[300, 400], \"max_depth\":[5, 10, 15, 20]}\n",
    "grid_forest = GridSearchCV(random_forest, param_grid=param_forest, cv=10)"
   ]
  },
  {
   "cell_type": "code",
   "execution_count": 4,
   "metadata": {},
   "outputs": [
    {
     "data": {
      "text/plain": [
       "GridSearchCV(cv=10, error_score=nan,\n",
       "             estimator=RandomForestClassifier(bootstrap=True, ccp_alpha=0.0,\n",
       "                                              class_weight=None,\n",
       "                                              criterion='gini', max_depth=None,\n",
       "                                              max_features='auto',\n",
       "                                              max_leaf_nodes=None,\n",
       "                                              max_samples=None,\n",
       "                                              min_impurity_decrease=0.0,\n",
       "                                              min_impurity_split=None,\n",
       "                                              min_samples_leaf=1,\n",
       "                                              min_samples_split=2,\n",
       "                                              min_weight_fraction_leaf=0.0,\n",
       "                                              n_estimators=100, n_jobs=None,\n",
       "                                              oob_score=True, random_state=19,\n",
       "                                              verbose=0, warm_start=False),\n",
       "             iid='deprecated', n_jobs=None,\n",
       "             param_grid={'max_depth': [5, 10, 15, 20],\n",
       "                         'n_estimators': [300, 400]},\n",
       "             pre_dispatch='2*n_jobs', refit=True, return_train_score=False,\n",
       "             scoring=None, verbose=0)"
      ]
     },
     "execution_count": 4,
     "metadata": {},
     "output_type": "execute_result"
    }
   ],
   "source": [
    "grid_forest.fit(X_train_new, y_train_new)"
   ]
  },
  {
   "cell_type": "code",
   "execution_count": 5,
   "metadata": {},
   "outputs": [
    {
     "data": {
      "text/plain": [
       "{'max_depth': 20, 'n_estimators': 400}"
      ]
     },
     "execution_count": 5,
     "metadata": {},
     "output_type": "execute_result"
    }
   ],
   "source": [
    "grid_forest.best_params_"
   ]
  },
  {
   "cell_type": "code",
   "execution_count": 7,
   "metadata": {},
   "outputs": [
    {
     "data": {
      "text/plain": [
       "{'mean_fit_time': array([12.18688412, 16.05780041, 21.97823305, 29.70882988, 30.41397171,\n",
       "        40.52461584, 35.56753399, 69.62446673]),\n",
       " 'std_fit_time': array([ 0.22008636,  0.12045271,  0.20528849,  0.16260372,  0.09380517,\n",
       "         0.20901353,  0.27180396, 67.23866003]),\n",
       " 'mean_score_time': array([0.13015814, 0.17128446, 0.21044025, 0.27990613, 0.3221777 ,\n",
       "        0.42577553, 0.45924673, 0.6023747 ]),\n",
       " 'std_score_time': array([0.00418601, 0.00393056, 0.00838524, 0.01367975, 0.02285747,\n",
       "        0.03533156, 0.02955256, 0.04479299]),\n",
       " 'param_max_depth': masked_array(data=[5, 5, 10, 10, 15, 15, 20, 20],\n",
       "              mask=[False, False, False, False, False, False, False, False],\n",
       "        fill_value='?',\n",
       "             dtype=object),\n",
       " 'param_n_estimators': masked_array(data=[300, 400, 300, 400, 300, 400, 300, 400],\n",
       "              mask=[False, False, False, False, False, False, False, False],\n",
       "        fill_value='?',\n",
       "             dtype=object),\n",
       " 'params': [{'max_depth': 5, 'n_estimators': 300},\n",
       "  {'max_depth': 5, 'n_estimators': 400},\n",
       "  {'max_depth': 10, 'n_estimators': 300},\n",
       "  {'max_depth': 10, 'n_estimators': 400},\n",
       "  {'max_depth': 15, 'n_estimators': 300},\n",
       "  {'max_depth': 15, 'n_estimators': 400},\n",
       "  {'max_depth': 20, 'n_estimators': 300},\n",
       "  {'max_depth': 20, 'n_estimators': 400}],\n",
       " 'split0_test_score': array([0.56492182, 0.56594154, 0.55517788, 0.55472468, 0.54724677,\n",
       "        0.54713347, 0.55245864, 0.55166553]),\n",
       " 'split1_test_score': array([0.56696125, 0.56730116, 0.55699071, 0.55676411, 0.54837979,\n",
       "        0.54747337, 0.5490596 , 0.54985271]),\n",
       " 'split2_test_score': array([0.56050306, 0.56050306, 0.54781328, 0.5492862 , 0.5423748 ,\n",
       "        0.54135509, 0.54600045, 0.54588715]),\n",
       " 'split3_test_score': array([0.56571493, 0.56718785, 0.56242919, 0.56288239, 0.5489463 ,\n",
       "        0.54815318, 0.55098572, 0.5496261 ]),\n",
       " 'split4_test_score': array([0.80512123, 0.81157942, 0.8592794 , 0.86063902, 0.8944029 ,\n",
       "        0.89519601, 0.90992522, 0.91105824]),\n",
       " 'split5_test_score': array([0.81781101, 0.82279628, 0.87559483, 0.87672785, 0.91083163,\n",
       "        0.91173805, 0.92850668, 0.92850668]),\n",
       " 'split6_test_score': array([0.81996374, 0.82789486, 0.87525493, 0.87740766, 0.91128484,\n",
       "        0.91139814, 0.93043281, 0.93020621]),\n",
       " 'split7_test_score': array([0.82948108, 0.83446635, 0.88182642, 0.88250623, 0.91706322,\n",
       "        0.91593021, 0.93122592, 0.93201903]),\n",
       " 'split8_test_score': array([0.81631728, 0.82096317, 0.87036827, 0.86957507, 0.90492918,\n",
       "        0.90572238, 0.92577904, 0.92600567]),\n",
       " 'split9_test_score': array([0.82934844, 0.83263456, 0.87705382, 0.87818697, 0.91150142,\n",
       "        0.9121813 , 0.93031161, 0.93144476]),\n",
       " 'mean_test_score': array([0.71761439, 0.72112683, 0.74617887, 0.74687002, 0.76369608,\n",
       "        0.76362812, 0.77546857, 0.77562721]),\n",
       " 'std_test_score': array([0.12517265, 0.12743896, 0.15573656, 0.15604335, 0.17724059,\n",
       "        0.17775403, 0.18449546, 0.18491877]),\n",
       " 'rank_test_score': array([8, 7, 6, 5, 3, 4, 2, 1], dtype=int32)}"
      ]
     },
     "execution_count": 7,
     "metadata": {},
     "output_type": "execute_result"
    }
   ],
   "source": [
    "grid_forest.cv_results_"
   ]
  },
  {
   "cell_type": "code",
   "execution_count": 17,
   "metadata": {},
   "outputs": [
    {
     "data": {
      "text/plain": [
       "0.7756272088196796"
      ]
     },
     "execution_count": 17,
     "metadata": {},
     "output_type": "execute_result"
    }
   ],
   "source": [
    "# Best mean test score\n",
    "grid_forest.best_score_"
   ]
  },
  {
   "cell_type": "code",
   "execution_count": 14,
   "metadata": {},
   "outputs": [
    {
     "data": {
      "text/plain": [
       "0.9308391307303587"
      ]
     },
     "metadata": {},
     "output_type": "display_data"
    },
    {
     "data": {
      "text/plain": [
       "0.700141898864809"
      ]
     },
     "metadata": {},
     "output_type": "display_data"
    }
   ],
   "source": [
    "display(grid_forest.score(X_train_new, y_train_new))\n",
    "display(grid_forest.score(X_test, y_test))"
   ]
  },
  {
   "cell_type": "markdown",
   "metadata": {},
   "source": [
    "### Confusion Matrix"
   ]
  },
  {
   "cell_type": "code",
   "execution_count": 18,
   "metadata": {},
   "outputs": [],
   "source": [
    "# Able to determine metrics for a confusion matrix\n",
    "def confusion_matrix_metrics(TN:int, FP:int, FN:int, TP:int, P:int, N:int):\n",
    "    print(\"TNR:\", TN/N)\n",
    "    print(\"FPR:\", FP/N)\n",
    "    print(\"FNR:\", FN/P)\n",
    "    print(\"TPR:\", TP/P)\n",
    "    print(\"Precision:\", TP/(TP+FP))  # What proportion of positive identifications was actually correct\n",
    "    print(\"Recall:\", TP/(TP+FN))  # What proportion of actual positives was identified correctly\n",
    "    print(\"F1 Score:\", (2*TP)/((2*TP) + (FP + FN)))  # the harmonic mean of precision and recall and is a better measure than accuracy"
   ]
  },
  {
   "cell_type": "code",
   "execution_count": 19,
   "metadata": {},
   "outputs": [
    {
     "name": "stdout",
     "output_type": "stream",
     "text": [
      "Confusion Matrix - Training Dataset\n",
      "Predicted      0      1    All\n",
      "True                          \n",
      "0          39091   5038  44129\n",
      "1           1066  43063  44129\n",
      "All        40157  48101  88258\n"
     ]
    }
   ],
   "source": [
    "print('Confusion Matrix - Training Dataset')\n",
    "print(pd.crosstab(y_train_new, grid_forest.predict(X_train_new), rownames=['True'], colnames=['Predicted'], margins=True))"
   ]
  },
  {
   "cell_type": "code",
   "execution_count": 20,
   "metadata": {},
   "outputs": [
    {
     "name": "stdout",
     "output_type": "stream",
     "text": [
      "TNR: 0.8858347118674794\n",
      "FPR: 0.11416528813252057\n",
      "FNR: 0.02415645040676199\n",
      "TPR: 0.975843549593238\n",
      "Precision: 0.8952620527639757\n",
      "Recall: 0.975843549593238\n",
      "F1 Score: 0.9338176298384474\n"
     ]
    }
   ],
   "source": [
    "confusion_matrix_metrics(TN=39091, FP=5038, FN=1066, TP=43063, P=44129, N=44129)"
   ]
  },
  {
   "cell_type": "code",
   "execution_count": 21,
   "metadata": {},
   "outputs": [
    {
     "name": "stdout",
     "output_type": "stream",
     "text": [
      "Confusion Matrix - Testing Dataset\n",
      "Predicted     0      1    All\n",
      "True                         \n",
      "0           821   3688   4509\n",
      "1           961  10034  10995\n",
      "All        1782  13722  15504\n"
     ]
    }
   ],
   "source": [
    "print('Confusion Matrix - Testing Dataset')\n",
    "print(pd.crosstab(y_test, grid_forest.predict(X_test), rownames=['True'], colnames=['Predicted'], margins=True))"
   ]
  },
  {
   "cell_type": "code",
   "execution_count": 22,
   "metadata": {},
   "outputs": [
    {
     "name": "stdout",
     "output_type": "stream",
     "text": [
      "TNR: 0.18208028387669106\n",
      "FPR: 0.8179197161233089\n",
      "FNR: 0.08740336516598454\n",
      "TPR: 0.9125966348340154\n",
      "Precision: 0.7312345139192538\n",
      "Recall: 0.9125966348340154\n",
      "F1 Score: 0.8119108306024194\n"
     ]
    }
   ],
   "source": [
    "confusion_matrix_metrics(TN=821, FP=3688, FN=961, TP=10034, P=10995, N=4509)"
   ]
  },
  {
   "cell_type": "markdown",
   "metadata": {},
   "source": [
    "### AUC ROC CURVE"
   ]
  },
  {
   "cell_type": "code",
   "execution_count": 25,
   "metadata": {},
   "outputs": [
    {
     "data": {
      "text/plain": [
       "0.9308391307303587"
      ]
     },
     "execution_count": 25,
     "metadata": {},
     "output_type": "execute_result"
    }
   ],
   "source": [
    "# Training data\n",
    "roc_auc_score(y_train_new, grid_forest.predict(X_train_new))"
   ]
  },
  {
   "cell_type": "code",
   "execution_count": 24,
   "metadata": {},
   "outputs": [
    {
     "data": {
      "text/plain": [
       "0.5473384593553532"
      ]
     },
     "execution_count": 24,
     "metadata": {},
     "output_type": "execute_result"
    }
   ],
   "source": [
    "# Testing data\n",
    "roc_auc_score(y_test, grid_forest.predict(X_test))"
   ]
  },
  {
   "cell_type": "markdown",
   "metadata": {},
   "source": [
    "# Feature Extraction "
   ]
  },
  {
   "cell_type": "code",
   "execution_count": 27,
   "metadata": {},
   "outputs": [],
   "source": [
    "# Appling random forest instantiation with grid search hyperparameter tuning variables\n",
    "rf_clf = RandomForestClassifier(n_estimators=400, max_depth=20, random_state=19, oob_score=True)"
   ]
  },
  {
   "cell_type": "code",
   "execution_count": 28,
   "metadata": {},
   "outputs": [
    {
     "data": {
      "text/plain": [
       "RandomForestClassifier(bootstrap=True, ccp_alpha=0.0, class_weight=None,\n",
       "                       criterion='gini', max_depth=20, max_features='auto',\n",
       "                       max_leaf_nodes=None, max_samples=None,\n",
       "                       min_impurity_decrease=0.0, min_impurity_split=None,\n",
       "                       min_samples_leaf=1, min_samples_split=2,\n",
       "                       min_weight_fraction_leaf=0.0, n_estimators=400,\n",
       "                       n_jobs=None, oob_score=True, random_state=19, verbose=0,\n",
       "                       warm_start=False)"
      ]
     },
     "execution_count": 28,
     "metadata": {},
     "output_type": "execute_result"
    }
   ],
   "source": [
    "# Passing SMOTE data through random forest\n",
    "rf_clf.fit(X_train_new, y_train_new)"
   ]
  },
  {
   "cell_type": "code",
   "execution_count": 32,
   "metadata": {},
   "outputs": [
    {
     "data": {
      "text/plain": [
       "0.7848353690317025"
      ]
     },
     "execution_count": 32,
     "metadata": {},
     "output_type": "execute_result"
    }
   ],
   "source": [
    "# Out of Bag data\n",
    "rf_clf.oob_score_"
   ]
  },
  {
   "cell_type": "code",
   "execution_count": 33,
   "metadata": {},
   "outputs": [
    {
     "data": {
      "text/plain": [
       "0.9308391307303587"
      ]
     },
     "metadata": {},
     "output_type": "display_data"
    },
    {
     "data": {
      "text/plain": [
       "0.700141898864809"
      ]
     },
     "metadata": {},
     "output_type": "display_data"
    }
   ],
   "source": [
    "display(rf_clf.score(X_train_new, y_train_new))\n",
    "display(rf_clf.score(X_test, y_test))"
   ]
  },
  {
   "cell_type": "code",
   "execution_count": 34,
   "metadata": {},
   "outputs": [
    {
     "data": {
      "text/plain": [
       "<BarContainer object of 40 artists>"
      ]
     },
     "execution_count": 34,
     "metadata": {},
     "output_type": "execute_result"
    },
    {
     "data": {
      "image/png": "[encoded data removed]",
      "text/plain": [
       "<Figure size 1080x720 with 1 Axes>"
      ]
     },
     "metadata": {
      "needs_background": "light"
     },
     "output_type": "display_data"
    }
   ],
   "source": [
    "# Graphing\n",
    "fig, ax = plt.subplots(figsize=(15, 10))\n",
    "ax.barh(width=rf_clf.feature_importances_, y=X_train_new.columns)"
   ]
  },
  {
   "cell_type": "code",
   "execution_count": 95,
   "metadata": {},
   "outputs": [
    {
     "name": "stdout",
     "output_type": "stream",
     "text": [
      "(array([ 0,  1,  2,  3,  5,  7,  8, 11, 22, 24]),)\n",
      "10\n"
     ]
    }
   ],
   "source": [
    "# Selecting the top features at a cap of 0.05\n",
    "top_important_features = np.where(rf_clf.feature_importances_ > 0.05)\n",
    "print(top_important_features)\n",
    "print(len(top_important_features[0]))  # Number of features that qualify"
   ]
  },
  {
   "cell_type": "code",
   "execution_count": 104,
   "metadata": {},
   "outputs": [
    {
     "data": {
      "text/plain": [
       "['Current Loan Amount',\n",
       " 'Credit Score',\n",
       " 'Annual Income',\n",
       " 'Monthly Debt',\n",
       " 'Number of Open Accounts',\n",
       " 'Current Credit Balance',\n",
       " 'Maximum Open Credit',\n",
       " 'Term_Short Term',\n",
       " 'Home Ownership_Home Mortgage',\n",
       " 'Home Ownership_Rent']"
      ]
     },
     "execution_count": 104,
     "metadata": {},
     "output_type": "execute_result"
    }
   ],
   "source": [
    "# Extracting the top feature column names\n",
    "top_important_feature_names = [columns for columns in X_train_new.columns[top_important_features]]\n",
    "top_important_feature_names"
   ]
  },
  {
   "cell_type": "code",
   "execution_count": 112,
   "metadata": {},
   "outputs": [],
   "source": [
    "# Creating new training and testing data with top features\n",
    "important_train_features = X_train_new[top_important_feature_names]\n",
    "important_test_features = X_test[top_important_feature_names]"
   ]
  },
  {
   "cell_type": "code",
   "execution_count": 118,
   "metadata": {},
   "outputs": [
    {
     "data": {
      "text/plain": [
       "((88258, 10), (15504, 10), (88258,), (15504,))"
      ]
     },
     "execution_count": 118,
     "metadata": {},
     "output_type": "execute_result"
    }
   ],
   "source": [
    "important_train_features.shape, important_test_features.shape, y_train_new.shape, y_test.shape"
   ]
  },
  {
   "cell_type": "code",
   "execution_count": 114,
   "metadata": {},
   "outputs": [
    {
     "data": {
      "text/html": [
       "<div>\n",
       "<style scoped>\n",
       "    .dataframe tbody tr th:only-of-type {\n",
       "        vertical-align: middle;\n",
       "    }\n",
       "\n",
       "    .dataframe tbody tr th {\n",
       "        vertical-align: top;\n",
       "    }\n",
       "\n",
       "    .dataframe thead th {\n",
       "        text-align: right;\n",
       "    }\n",
       "</style>\n",
       "<table border=\"1\" class=\"dataframe\">\n",
       "  <thead>\n",
       "    <tr style=\"text-align: right;\">\n",
       "      <th></th>\n",
       "      <th>Current Loan Amount</th>\n",
       "      <th>Credit Score</th>\n",
       "      <th>Annual Income</th>\n",
       "      <th>Monthly Debt</th>\n",
       "      <th>Number of Open Accounts</th>\n",
       "      <th>Current Credit Balance</th>\n",
       "      <th>Maximum Open Credit</th>\n",
       "      <th>Term_Short Term</th>\n",
       "      <th>Home Ownership_Home Mortgage</th>\n",
       "      <th>Home Ownership_Rent</th>\n",
       "    </tr>\n",
       "  </thead>\n",
       "  <tbody>\n",
       "    <tr>\n",
       "      <th>0</th>\n",
       "      <td>44572.0</td>\n",
       "      <td>721.0</td>\n",
       "      <td>481270.0</td>\n",
       "      <td>5173.70</td>\n",
       "      <td>3.0</td>\n",
       "      <td>13623.0</td>\n",
       "      <td>26752.0</td>\n",
       "      <td>1</td>\n",
       "      <td>0</td>\n",
       "      <td>0</td>\n",
       "    </tr>\n",
       "    <tr>\n",
       "      <th>1</th>\n",
       "      <td>199958.0</td>\n",
       "      <td>74.0</td>\n",
       "      <td>973370.0</td>\n",
       "      <td>17240.60</td>\n",
       "      <td>6.0</td>\n",
       "      <td>88502.0</td>\n",
       "      <td>112970.0</td>\n",
       "      <td>1</td>\n",
       "      <td>0</td>\n",
       "      <td>0</td>\n",
       "    </tr>\n",
       "    <tr>\n",
       "      <th>2</th>\n",
       "      <td>516604.0</td>\n",
       "      <td>714.0</td>\n",
       "      <td>1357037.0</td>\n",
       "      <td>23748.29</td>\n",
       "      <td>14.0</td>\n",
       "      <td>393053.0</td>\n",
       "      <td>524942.0</td>\n",
       "      <td>1</td>\n",
       "      <td>0</td>\n",
       "      <td>0</td>\n",
       "    </tr>\n",
       "    <tr>\n",
       "      <th>3</th>\n",
       "      <td>532576.0</td>\n",
       "      <td>716.0</td>\n",
       "      <td>1154706.0</td>\n",
       "      <td>0.00</td>\n",
       "      <td>1.0</td>\n",
       "      <td>0.0</td>\n",
       "      <td>0.0</td>\n",
       "      <td>1</td>\n",
       "      <td>0</td>\n",
       "      <td>1</td>\n",
       "    </tr>\n",
       "    <tr>\n",
       "      <th>4</th>\n",
       "      <td>90024.0</td>\n",
       "      <td>749.0</td>\n",
       "      <td>633935.0</td>\n",
       "      <td>12837.16</td>\n",
       "      <td>11.0</td>\n",
       "      <td>66880.0</td>\n",
       "      <td>285736.0</td>\n",
       "      <td>1</td>\n",
       "      <td>0</td>\n",
       "      <td>1</td>\n",
       "    </tr>\n",
       "  </tbody>\n",
       "</table>\n",
       "</div>"
      ],
      "text/plain": [
       "   Current Loan Amount  Credit Score  Annual Income  Monthly Debt  \\\n",
       "0              44572.0         721.0       481270.0       5173.70   \n",
       "1             199958.0          74.0       973370.0      17240.60   \n",
       "2             516604.0         714.0      1357037.0      23748.29   \n",
       "3             532576.0         716.0      1154706.0          0.00   \n",
       "4              90024.0         749.0       633935.0      12837.16   \n",
       "\n",
       "   Number of Open Accounts  Current Credit Balance  Maximum Open Credit  \\\n",
       "0                      3.0                 13623.0              26752.0   \n",
       "1                      6.0                 88502.0             112970.0   \n",
       "2                     14.0                393053.0             524942.0   \n",
       "3                      1.0                     0.0                  0.0   \n",
       "4                     11.0                 66880.0             285736.0   \n",
       "\n",
       "   Term_Short Term  Home Ownership_Home Mortgage  Home Ownership_Rent  \n",
       "0                1                             0                    0  \n",
       "1                1                             0                    0  \n",
       "2                1                             0                    0  \n",
       "3                1                             0                    1  \n",
       "4                1                             0                    1  "
      ]
     },
     "execution_count": 114,
     "metadata": {},
     "output_type": "execute_result"
    }
   ],
   "source": [
    "important_train_features.head()"
   ]
  },
  {
   "cell_type": "code",
   "execution_count": 115,
   "metadata": {},
   "outputs": [
    {
     "data": {
      "text/html": [
       "<div>\n",
       "<style scoped>\n",
       "    .dataframe tbody tr th:only-of-type {\n",
       "        vertical-align: middle;\n",
       "    }\n",
       "\n",
       "    .dataframe tbody tr th {\n",
       "        vertical-align: top;\n",
       "    }\n",
       "\n",
       "    .dataframe thead th {\n",
       "        text-align: right;\n",
       "    }\n",
       "</style>\n",
       "<table border=\"1\" class=\"dataframe\">\n",
       "  <thead>\n",
       "    <tr style=\"text-align: right;\">\n",
       "      <th></th>\n",
       "      <th>Current Loan Amount</th>\n",
       "      <th>Credit Score</th>\n",
       "      <th>Annual Income</th>\n",
       "      <th>Monthly Debt</th>\n",
       "      <th>Number of Open Accounts</th>\n",
       "      <th>Current Credit Balance</th>\n",
       "      <th>Maximum Open Credit</th>\n",
       "      <th>Term_Short Term</th>\n",
       "      <th>Home Ownership_Home Mortgage</th>\n",
       "      <th>Home Ownership_Rent</th>\n",
       "    </tr>\n",
       "  </thead>\n",
       "  <tbody>\n",
       "    <tr>\n",
       "      <th>74241</th>\n",
       "      <td>642598.0</td>\n",
       "      <td>74.0</td>\n",
       "      <td>1109942.0</td>\n",
       "      <td>9526.79</td>\n",
       "      <td>12.0</td>\n",
       "      <td>193781.0</td>\n",
       "      <td>1752938.0</td>\n",
       "      <td>1</td>\n",
       "      <td>1</td>\n",
       "      <td>0</td>\n",
       "    </tr>\n",
       "    <tr>\n",
       "      <th>41986</th>\n",
       "      <td>444048.0</td>\n",
       "      <td>724.0</td>\n",
       "      <td>1246362.0</td>\n",
       "      <td>13398.42</td>\n",
       "      <td>9.0</td>\n",
       "      <td>20197.0</td>\n",
       "      <td>95436.0</td>\n",
       "      <td>0</td>\n",
       "      <td>1</td>\n",
       "      <td>0</td>\n",
       "    </tr>\n",
       "    <tr>\n",
       "      <th>36143</th>\n",
       "      <td>467324.0</td>\n",
       "      <td>677.0</td>\n",
       "      <td>1424430.0</td>\n",
       "      <td>21603.95</td>\n",
       "      <td>23.0</td>\n",
       "      <td>267273.0</td>\n",
       "      <td>801768.0</td>\n",
       "      <td>0</td>\n",
       "      <td>0</td>\n",
       "      <td>1</td>\n",
       "    </tr>\n",
       "    <tr>\n",
       "      <th>62116</th>\n",
       "      <td>84656.0</td>\n",
       "      <td>732.0</td>\n",
       "      <td>835506.0</td>\n",
       "      <td>4783.25</td>\n",
       "      <td>7.0</td>\n",
       "      <td>10070.0</td>\n",
       "      <td>65824.0</td>\n",
       "      <td>1</td>\n",
       "      <td>1</td>\n",
       "      <td>0</td>\n",
       "    </tr>\n",
       "    <tr>\n",
       "      <th>57132</th>\n",
       "      <td>21868.0</td>\n",
       "      <td>665.0</td>\n",
       "      <td>1133502.0</td>\n",
       "      <td>15491.27</td>\n",
       "      <td>4.0</td>\n",
       "      <td>58501.0</td>\n",
       "      <td>69982.0</td>\n",
       "      <td>1</td>\n",
       "      <td>0</td>\n",
       "      <td>1</td>\n",
       "    </tr>\n",
       "  </tbody>\n",
       "</table>\n",
       "</div>"
      ],
      "text/plain": [
       "       Current Loan Amount  Credit Score  Annual Income  Monthly Debt  \\\n",
       "74241             642598.0          74.0      1109942.0       9526.79   \n",
       "41986             444048.0         724.0      1246362.0      13398.42   \n",
       "36143             467324.0         677.0      1424430.0      21603.95   \n",
       "62116              84656.0         732.0       835506.0       4783.25   \n",
       "57132              21868.0         665.0      1133502.0      15491.27   \n",
       "\n",
       "       Number of Open Accounts  Current Credit Balance  Maximum Open Credit  \\\n",
       "74241                     12.0                193781.0            1752938.0   \n",
       "41986                      9.0                 20197.0              95436.0   \n",
       "36143                     23.0                267273.0             801768.0   \n",
       "62116                      7.0                 10070.0              65824.0   \n",
       "57132                      4.0                 58501.0              69982.0   \n",
       "\n",
       "       Term_Short Term  Home Ownership_Home Mortgage  Home Ownership_Rent  \n",
       "74241                1                             1                    0  \n",
       "41986                0                             1                    0  \n",
       "36143                0                             0                    1  \n",
       "62116                1                             1                    0  \n",
       "57132                1                             0                    1  "
      ]
     },
     "execution_count": 115,
     "metadata": {},
     "output_type": "execute_result"
    }
   ],
   "source": [
    "important_test_features.head()"
   ]
  },
  {
   "cell_type": "code",
   "execution_count": 119,
   "metadata": {},
   "outputs": [
    {
     "data": {
      "text/plain": [
       "RandomForestClassifier(bootstrap=True, ccp_alpha=0.0, class_weight=None,\n",
       "                       criterion='gini', max_depth=20, max_features='auto',\n",
       "                       max_leaf_nodes=None, max_samples=None,\n",
       "                       min_impurity_decrease=0.0, min_impurity_split=None,\n",
       "                       min_samples_leaf=1, min_samples_split=2,\n",
       "                       min_weight_fraction_leaf=0.0, n_estimators=400,\n",
       "                       n_jobs=None, oob_score=True, random_state=19, verbose=0,\n",
       "                       warm_start=False)"
      ]
     },
     "execution_count": 119,
     "metadata": {},
     "output_type": "execute_result"
    }
   ],
   "source": [
    "rf_clf.fit(important_train_features, y_train_new)"
   ]
  },
  {
   "cell_type": "markdown",
   "metadata": {},
   "source": [
    "### Random Forest Model Evaluation: Feature Extraction"
   ]
  },
  {
   "cell_type": "code",
   "execution_count": 120,
   "metadata": {},
   "outputs": [
    {
     "name": "stdout",
     "output_type": "stream",
     "text": [
      "Train Score: 0.9504294228285255\n",
      "Test Score: 0.6727296181630547\n",
      "OOB Score: 0.7639080876521108\n"
     ]
    }
   ],
   "source": [
    "print(\"Train Score:\", rf_clf.score(important_train_features, y_train_new))\n",
    "print(\"Test Score:\", rf_clf.score(important_test_features, y_test))\n",
    "print(\"OOB Score:\", rf_clf.oob_score_)"
   ]
  },
  {
   "cell_type": "code",
   "execution_count": 121,
   "metadata": {},
   "outputs": [
    {
     "name": "stdout",
     "output_type": "stream",
     "text": [
      "Confusion Matrix - Training Dataset\n",
      "Predicted      0      1    All\n",
      "True                          \n",
      "0          41246   2883  44129\n",
      "1           1492  42637  44129\n",
      "All        42738  45520  88258\n"
     ]
    }
   ],
   "source": [
    "print('Confusion Matrix - Training Dataset')\n",
    "print(pd.crosstab(y_train_new, rf_clf.predict(important_train_features), rownames=['True'], colnames=['Predicted'], margins=True))"
   ]
  },
  {
   "cell_type": "code",
   "execution_count": 122,
   "metadata": {},
   "outputs": [
    {
     "name": "stdout",
     "output_type": "stream",
     "text": [
      "TNR: 0.9346688118924064\n",
      "FPR: 0.06533118810759364\n",
      "FNR: 0.03380996623535543\n",
      "TPR: 0.9661900337646445\n",
      "Precision: 0.9366652021089631\n",
      "Recall: 0.9661900337646445\n",
      "F1 Score: 0.9511985632857032\n"
     ]
    }
   ],
   "source": [
    "confusion_matrix_metrics(TN=41246, FP=2883, FN=1492, TP=42637, P=44129, N=44129)"
   ]
  },
  {
   "cell_type": "code",
   "execution_count": 124,
   "metadata": {},
   "outputs": [
    {
     "name": "stdout",
     "output_type": "stream",
     "text": [
      "Confusion Matrix - Testing Dataset\n",
      "Predicted     0      1    All\n",
      "True                         \n",
      "0          1360   3149   4509\n",
      "1          1925   9070  10995\n",
      "All        3285  12219  15504\n"
     ]
    }
   ],
   "source": [
    "print('Confusion Matrix - Testing Dataset')\n",
    "print(pd.crosstab(y_test, rf_clf.predict(important_test_features), rownames=['True'], colnames=['Predicted'], margins=True))"
   ]
  },
  {
   "cell_type": "code",
   "execution_count": 126,
   "metadata": {},
   "outputs": [
    {
     "name": "stdout",
     "output_type": "stream",
     "text": [
      "TNR: 0.3016189842537148\n",
      "FPR: 0.6983810157462852\n",
      "FNR: 0.17507958162801274\n",
      "TPR: 0.8249204183719873\n",
      "Precision: 0.7422866028316556\n",
      "Recall: 0.8249204183719873\n",
      "F1 Score: 0.7814250021538727\n"
     ]
    }
   ],
   "source": [
    "confusion_matrix_metrics(TN=1360, FP=3149, FN=1925, TP=9070, P=10995, N=4509)"
   ]
  },
  {
   "cell_type": "markdown",
   "metadata": {},
   "source": [
    "## Support Vector Machine"
   ]
  },
  {
   "cell_type": "code",
   "execution_count": 127,
   "metadata": {},
   "outputs": [],
   "source": [
    "# Support Vector Machine grid search\n",
    "param_svm = {\"C\":[0.1, 1.0]}\n",
    "grid_svm = GridSearchCV(svm, param_grid=param_svm)"
   ]
  },
  {
   "cell_type": "code",
   "execution_count": null,
   "metadata": {},
   "outputs": [],
   "source": [
    "grid_svm.fit(X_train_rescaled, y_train_new)"
   ]
  },
  {
   "cell_type": "code",
   "execution_count": null,
   "metadata": {},
   "outputs": [],
   "source": []
  }
 ],
 "metadata": {
  "kernelspec": {
   "display_name": "Python 3",
   "language": "python",
   "name": "python3"
  },
  "language_info": {
   "codemirror_mode": {
    "name": "ipython",
    "version": 3
   },
   "file_extension": ".py",
   "mimetype": "text/x-python",
   "name": "python",
   "nbconvert_exporter": "python",
   "pygments_lexer": "ipython3",
   "version": "3.8.1"
  }
 },
 "nbformat": 4,
 "nbformat_minor": 4
}
